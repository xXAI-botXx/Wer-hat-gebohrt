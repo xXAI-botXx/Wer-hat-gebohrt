{
 "cells": [
  {
   "cell_type": "markdown",
   "metadata": {},
   "source": [
    "---\n",
    "## Unrepräsentative Daten (Experiment)\n",
    "by Tobia Ippolito\n",
    "### Contents:\n",
    "- [Beschreibung](#Beschreibung)\n",
    "- [Imports](#Imports)\n",
    "- [Experiment](#Experiment)\n",
    "- [Experiment 2](#Experiment_2_(andere_personenkonstellation))\n",
    "- [Ergebnis](#Ergebnis)\n",
    "\n",
    "<br>\n",
    "<br>\n",
    "\n",
    "---\n",
    "\n",
    "### Beschreibung\n",
    "Es soll getestet werden, ob manche Personenkonstellationen einfach sehr schwer zu unterscheiden sind oder ob die Trainingsdaten daran schuld sind (zu wenig Trainingsdaten oder Trainingsdaten zu unsagekräftig).<br>\n",
    "<br>\n",
    "\n",
    "---\n",
    "### Imports"
   ]
  },
  {
   "cell_type": "code",
   "execution_count": 1,
   "metadata": {},
   "outputs": [],
   "source": [
    "%load_ext autoreload\n",
    "%autoreload 2\n",
    "\n",
    "import sys\n",
    "sys.path.append('../../src')"
   ]
  },
  {
   "cell_type": "code",
   "execution_count": 2,
   "metadata": {},
   "outputs": [],
   "source": [
    "import anoog\n",
    "from anoog.model import predict_proba\n",
    "from anoog.model import train_random_forest"
   ]
  },
  {
   "cell_type": "code",
   "execution_count": 3,
   "metadata": {},
   "outputs": [],
   "source": [
    "import numpy as np\n",
    "import pandas as pd\n",
    "import matplotlib.pyplot as plt"
   ]
  },
  {
   "cell_type": "code",
   "execution_count": 4,
   "metadata": {},
   "outputs": [],
   "source": [
    "import random"
   ]
  },
  {
   "cell_type": "markdown",
   "metadata": {},
   "source": [
    "---\n",
    "### Experiment"
   ]
  },
  {
   "cell_type": "markdown",
   "metadata": {},
   "source": [
    "Load Data -> Don't touch the testdata!!!"
   ]
  },
  {
   "cell_type": "code",
   "execution_count": 5,
   "metadata": {},
   "outputs": [
    {
     "name": "stdout",
     "output_type": "stream",
     "text": [
      "Len of Train-Data 15\n",
      "y-count_values Train_Data:\n",
      " 18 17\n",
      "Len of Test-Data 15\n",
      "y-count_values Test-Data:\n",
      " 7 8\n"
     ]
    },
    {
     "data": {
      "text/html": [
       "<div>\n",
       "<style scoped>\n",
       "    .dataframe tbody tr th:only-of-type {\n",
       "        vertical-align: middle;\n",
       "    }\n",
       "\n",
       "    .dataframe tbody tr th {\n",
       "        vertical-align: top;\n",
       "    }\n",
       "\n",
       "    .dataframe thead th {\n",
       "        text-align: right;\n",
       "    }\n",
       "</style>\n",
       "<table border=\"1\" class=\"dataframe\">\n",
       "  <thead>\n",
       "    <tr style=\"text-align: right;\">\n",
       "      <th></th>\n",
       "      <th>audio_min</th>\n",
       "      <th>audio_max</th>\n",
       "      <th>audio_mean</th>\n",
       "      <th>audio_median</th>\n",
       "      <th>audio_std</th>\n",
       "      <th>current_min</th>\n",
       "      <th>current_max</th>\n",
       "      <th>current_mean</th>\n",
       "      <th>current_median</th>\n",
       "      <th>current_std</th>\n",
       "      <th>...</th>\n",
       "      <th>voltage_mean</th>\n",
       "      <th>voltage_median</th>\n",
       "      <th>voltage_std</th>\n",
       "      <th>Time</th>\n",
       "      <th>Resistance</th>\n",
       "      <th>Power</th>\n",
       "      <th>Work</th>\n",
       "      <th>mAh</th>\n",
       "      <th>Wh</th>\n",
       "      <th>y</th>\n",
       "    </tr>\n",
       "  </thead>\n",
       "  <tbody>\n",
       "    <tr>\n",
       "      <th>13</th>\n",
       "      <td>-5.712891</td>\n",
       "      <td>3.422858</td>\n",
       "      <td>-0.028224</td>\n",
       "      <td>-0.014136</td>\n",
       "      <td>1.235233</td>\n",
       "      <td>-0.850208</td>\n",
       "      <td>30.270541</td>\n",
       "      <td>3.522206</td>\n",
       "      <td>4.423537</td>\n",
       "      <td>4.191823</td>\n",
       "      <td>...</td>\n",
       "      <td>19.427482</td>\n",
       "      <td>19.281837</td>\n",
       "      <td>0.555071</td>\n",
       "      <td>3.32</td>\n",
       "      <td>0.181300</td>\n",
       "      <td>68.427596</td>\n",
       "      <td>227.179618</td>\n",
       "      <td>58.703435</td>\n",
       "      <td>1140.459929</td>\n",
       "      <td>0</td>\n",
       "    </tr>\n",
       "    <tr>\n",
       "      <th>22</th>\n",
       "      <td>-4.444125</td>\n",
       "      <td>5.483398</td>\n",
       "      <td>0.007517</td>\n",
       "      <td>-0.001169</td>\n",
       "      <td>1.473578</td>\n",
       "      <td>-0.852568</td>\n",
       "      <td>31.765591</td>\n",
       "      <td>2.274081</td>\n",
       "      <td>2.112612</td>\n",
       "      <td>3.359422</td>\n",
       "      <td>...</td>\n",
       "      <td>19.507390</td>\n",
       "      <td>19.624449</td>\n",
       "      <td>0.448560</td>\n",
       "      <td>6.45</td>\n",
       "      <td>0.116575</td>\n",
       "      <td>44.361392</td>\n",
       "      <td>286.130978</td>\n",
       "      <td>37.901356</td>\n",
       "      <td>739.356531</td>\n",
       "      <td>0</td>\n",
       "    </tr>\n",
       "    <tr>\n",
       "      <th>4</th>\n",
       "      <td>-6.069336</td>\n",
       "      <td>3.519140</td>\n",
       "      <td>-0.016214</td>\n",
       "      <td>-0.003905</td>\n",
       "      <td>1.063489</td>\n",
       "      <td>-0.939453</td>\n",
       "      <td>30.711006</td>\n",
       "      <td>3.167100</td>\n",
       "      <td>3.512523</td>\n",
       "      <td>3.284618</td>\n",
       "      <td>...</td>\n",
       "      <td>19.646134</td>\n",
       "      <td>19.554157</td>\n",
       "      <td>0.452214</td>\n",
       "      <td>4.19</td>\n",
       "      <td>0.161207</td>\n",
       "      <td>62.221274</td>\n",
       "      <td>260.707139</td>\n",
       "      <td>52.785004</td>\n",
       "      <td>1037.021238</td>\n",
       "      <td>0</td>\n",
       "    </tr>\n",
       "    <tr>\n",
       "      <th>33</th>\n",
       "      <td>-3.785000</td>\n",
       "      <td>3.471892</td>\n",
       "      <td>-0.000660</td>\n",
       "      <td>-0.004282</td>\n",
       "      <td>1.220027</td>\n",
       "      <td>-0.845724</td>\n",
       "      <td>30.253421</td>\n",
       "      <td>3.301210</td>\n",
       "      <td>4.334497</td>\n",
       "      <td>3.845601</td>\n",
       "      <td>...</td>\n",
       "      <td>19.247490</td>\n",
       "      <td>19.104569</td>\n",
       "      <td>0.493643</td>\n",
       "      <td>3.46</td>\n",
       "      <td>0.171514</td>\n",
       "      <td>63.540007</td>\n",
       "      <td>219.848423</td>\n",
       "      <td>55.020168</td>\n",
       "      <td>1059.000111</td>\n",
       "      <td>1</td>\n",
       "    </tr>\n",
       "    <tr>\n",
       "      <th>32</th>\n",
       "      <td>-2.298118</td>\n",
       "      <td>4.216855</td>\n",
       "      <td>0.004788</td>\n",
       "      <td>-0.001636</td>\n",
       "      <td>0.657386</td>\n",
       "      <td>-0.866211</td>\n",
       "      <td>29.974494</td>\n",
       "      <td>2.981563</td>\n",
       "      <td>3.595562</td>\n",
       "      <td>3.377438</td>\n",
       "      <td>...</td>\n",
       "      <td>19.303159</td>\n",
       "      <td>19.202534</td>\n",
       "      <td>0.451026</td>\n",
       "      <td>4.73</td>\n",
       "      <td>0.154460</td>\n",
       "      <td>57.553586</td>\n",
       "      <td>272.228463</td>\n",
       "      <td>49.692719</td>\n",
       "      <td>959.226438</td>\n",
       "      <td>1</td>\n",
       "    </tr>\n",
       "  </tbody>\n",
       "</table>\n",
       "<p>5 rows × 22 columns</p>\n",
       "</div>"
      ],
      "text/plain": [
       "    audio_min  audio_max  audio_mean  audio_median  audio_std  current_min  \\\n",
       "13  -5.712891   3.422858   -0.028224     -0.014136   1.235233    -0.850208   \n",
       "22  -4.444125   5.483398    0.007517     -0.001169   1.473578    -0.852568   \n",
       "4   -6.069336   3.519140   -0.016214     -0.003905   1.063489    -0.939453   \n",
       "33  -3.785000   3.471892   -0.000660     -0.004282   1.220027    -0.845724   \n",
       "32  -2.298118   4.216855    0.004788     -0.001636   0.657386    -0.866211   \n",
       "\n",
       "    current_max  current_mean  current_median  current_std  ...  voltage_mean  \\\n",
       "13    30.270541      3.522206        4.423537     4.191823  ...     19.427482   \n",
       "22    31.765591      2.274081        2.112612     3.359422  ...     19.507390   \n",
       "4     30.711006      3.167100        3.512523     3.284618  ...     19.646134   \n",
       "33    30.253421      3.301210        4.334497     3.845601  ...     19.247490   \n",
       "32    29.974494      2.981563        3.595562     3.377438  ...     19.303159   \n",
       "\n",
       "    voltage_median  voltage_std  Time  Resistance      Power        Work  \\\n",
       "13       19.281837     0.555071  3.32    0.181300  68.427596  227.179618   \n",
       "22       19.624449     0.448560  6.45    0.116575  44.361392  286.130978   \n",
       "4        19.554157     0.452214  4.19    0.161207  62.221274  260.707139   \n",
       "33       19.104569     0.493643  3.46    0.171514  63.540007  219.848423   \n",
       "32       19.202534     0.451026  4.73    0.154460  57.553586  272.228463   \n",
       "\n",
       "          mAh           Wh  y  \n",
       "13  58.703435  1140.459929  0  \n",
       "22  37.901356   739.356531  0  \n",
       "4   52.785004  1037.021238  0  \n",
       "33  55.020168  1059.000111  1  \n",
       "32  49.692719   959.226438  1  \n",
       "\n",
       "[5 rows x 22 columns]"
      ]
     },
     "execution_count": 5,
     "metadata": {},
     "output_type": "execute_result"
    }
   ],
   "source": [
    "train_data, test_data = anoog.io.load_data(\"../../data/2021-11-09\",\n",
    "                                ['tippolit', 'vkorzev'],\n",
    "                                extraction=anoog.io.extraction_mode.MANUEL,\n",
    "                                selection=anoog.io.selection_mode.NONE,\n",
    "                                train_test_split=True,\n",
    "                                test_size=0.3)\n",
    "print(\"Len of Train-Data\", len(test_data))\n",
    "print(\"y-count_values Train_Data:\\n\", train_data['y'].value_counts()[0], train_data['y'].value_counts()[1])\n",
    "print(\"Len of Test-Data\", len(test_data))\n",
    "print(\"y-count_values Test-Data:\\n\", test_data['y'].value_counts()[0], test_data['y'].value_counts()[1])\n",
    "train_data.tail()"
   ]
  },
  {
   "cell_type": "code",
   "execution_count": 6,
   "metadata": {},
   "outputs": [],
   "source": [
    "X_test, y_test = anoog.io.X_y_split(test_data)"
   ]
  },
  {
   "cell_type": "markdown",
   "metadata": {},
   "source": [
    "Helper Functions (for plotting)"
   ]
  },
  {
   "cell_type": "code",
   "execution_count": 7,
   "metadata": {},
   "outputs": [],
   "source": [
    "def plot_acc(acc):\n",
    "    fig, ax = plt.subplots(1, 2, figsize=(20, 8))\n",
    "\n",
    "    plt.style.use('seaborn-whitegrid')\n",
    "\n",
    "    n, bins, patches = ax[0].hist(acc, bins=len(acc)//4)\n",
    "    cm = plt.cm.get_cmap('RdYlBu_r')\n",
    "    col = (n-n.min())/(n.max()-n.min())\n",
    "    for c, p in zip(col, patches):\n",
    "        plt.setp(p, 'facecolor', cm(c))\n",
    "    #ax[0].hist(acc, bins=len(acc)//4)\n",
    "    ax[0].grid()\n",
    "    ax[0].set_title(\"Histogramm der Accuracy\")\n",
    "    ax[0].set_xlabel(\"Accuracy\")\n",
    "    ax[0].set_ylabel(\"Counts\")\n",
    "\n",
    "    ax[1].boxplot(acc, vert=False) \n",
    "    ax[1].grid()\n",
    "    ax[1].set_title(\"Boxplot der Accuracy\")\n",
    "    ax[1].set_xlabel(\"Accuracy\")"
   ]
  },
  {
   "cell_type": "markdown",
   "metadata": {},
   "source": [
    "Experiment Function"
   ]
  },
  {
   "cell_type": "code",
   "execution_count": 8,
   "metadata": {},
   "outputs": [],
   "source": [
    "def train_test_with_random_entries(model_method=train_random_forest, entry_amount_per_class=3, try_amount=100):\n",
    "    acc = []\n",
    "    for i in range(try_amount):\n",
    "        # collect 3 random data-entries per class\n",
    "        indexes = []\n",
    "        for count in range(entry_amount_per_class):\n",
    "            # get y = 0\n",
    "            while True:\n",
    "                new_value = random.randint(0, len(train_data)-1)\n",
    "                if new_value not in indexes and train_data.iloc[new_value].y == 0:\n",
    "                    break\n",
    "            indexes += [new_value]\n",
    "\n",
    "            # get y = 1\n",
    "            while True:\n",
    "                new_value = random.randint(0, len(train_data)-1)\n",
    "                if new_value not in indexes and train_data.iloc[new_value].y == 1:\n",
    "                    break\n",
    "            indexes += [new_value]\n",
    "\n",
    "        local_train_data = train_data.iloc[indexes]\n",
    "        X_train, y_train = anoog.io.X_y_split(local_train_data)\n",
    "\n",
    "        # train model\n",
    "        model = model_method(X_train, y_train, auto_params=False, normalize=True)\n",
    "\n",
    "        # predict predict_data, X_train, normalize=False)\n",
    "        #result = anoog.predict_proba(model, X_test, X_train, normalize=True)\n",
    "        result = anoog.model.evaluate_model(model, X_test, y_test, local_train_data.drop(columns=['y']), normalize=True)\n",
    "        acc += [result[0]]\n",
    "\n",
    "    result_str = f\"Info:\\n  Traindata-Amount: {entry_amount_per_class*2} ({entry_amount_per_class} per class)\"\n",
    "    result_str += f\"\\n  Mean of {try_amount} predictions and shuffles.\\n  Model:{model_method.__name__}\"\n",
    "    result_str += f\"\\n\\nAccuracy:\\n  Mean: {round(np.mean(acc), 2)}%, Median: {round(np.median(acc),2)}%\"\n",
    "    result_str += f\"\\n  Min: {round(np.min(acc),2)}%, Max: {round(np.max(acc),2)}%\\n  Variance: {round(np.std(acc),2)}\"\n",
    "    print(result_str)\n",
    "    plot_acc(acc)"
   ]
  },
  {
   "cell_type": "markdown",
   "metadata": {},
   "source": [
    "Testing/Execute Experiment"
   ]
  },
  {
   "cell_type": "code",
   "execution_count": 9,
   "metadata": {},
   "outputs": [
    {
     "name": "stdout",
     "output_type": "stream",
     "text": [
      "Info:\n",
      "  Traindata-Amount: 6 (3 per class)\n",
      "  Mean of 50 predictions and shuffles.\n",
      "  Model:train_svc\n",
      "\n",
      "Accuracy:\n",
      "  Mean: 64.67%, Median: 66.67%\n",
      "  Min: 46.67%, Max: 80.0%\n",
      "  Variance: 6.96\n"
     ]
    },
    {
     "data": {
      "image/png": "[encoded data removed]",
      "text/plain": [
       "<Figure size 1440x576 with 2 Axes>"
      ]
     },
     "metadata": {
      "needs_background": "light"
     },
     "output_type": "display_data"
    }
   ],
   "source": [
    "train_test_with_random_entries(model_method=anoog.model.train_svc, entry_amount_per_class=3, try_amount=50)"
   ]
  },
  {
   "cell_type": "code",
   "execution_count": 10,
   "metadata": {},
   "outputs": [
    {
     "name": "stdout",
     "output_type": "stream",
     "text": [
      "Info:\n",
      "  Traindata-Amount: 6 (3 per class)\n",
      "  Mean of 50 predictions and shuffles.\n",
      "  Model:train_random_forest\n",
      "\n",
      "Accuracy:\n",
      "  Mean: 68.8%, Median: 66.67%\n",
      "  Min: 53.33%, Max: 93.33%\n",
      "  Variance: 9.09\n"
     ]
    },
    {
     "data": {
      "image/png": "[encoded data removed]",
      "text/plain": [
       "<Figure size 1440x576 with 2 Axes>"
      ]
     },
     "metadata": {},
     "output_type": "display_data"
    }
   ],
   "source": [
    "train_test_with_random_entries(model_method=anoog.model.train_random_forest, entry_amount_per_class=3, try_amount=50)"
   ]
  },
  {
   "cell_type": "markdown",
   "metadata": {},
   "source": [
    "---\n",
    "### Experiment 2 (andere personenkonstellation)"
   ]
  },
  {
   "cell_type": "markdown",
   "metadata": {},
   "source": [
    "Load Data"
   ]
  },
  {
   "cell_type": "code",
   "execution_count": 11,
   "metadata": {},
   "outputs": [
    {
     "name": "stdout",
     "output_type": "stream",
     "text": [
      "Len of Train-Data 15\n",
      "y-count_values Train_Data:\n",
      " 18 17\n",
      "Len of Test-Data 15\n",
      "y-count_values Test-Data:\n",
      " 7 8\n"
     ]
    }
   ],
   "source": [
    "train_data, test_data = anoog.io.load_data(\"../../data/2021-11-09\",\n",
    "                                ['tippolit', 'skadkade'],\n",
    "                                extraction=anoog.io.extraction_mode.MANUEL,\n",
    "                                selection=anoog.io.selection_mode.NONE,\n",
    "                                train_test_split=True,\n",
    "                                test_size=0.3)\n",
    "print(\"Len of Train-Data\", len(test_data))\n",
    "print(\"y-count_values Train_Data:\\n\", train_data['y'].value_counts()[0], train_data['y'].value_counts()[1])\n",
    "print(\"Len of Test-Data\", len(test_data))\n",
    "print(\"y-count_values Test-Data:\\n\", test_data['y'].value_counts()[0], test_data['y'].value_counts()[1])"
   ]
  },
  {
   "cell_type": "code",
   "execution_count": 12,
   "metadata": {},
   "outputs": [],
   "source": [
    "X_test, y_test = anoog.io.X_y_split(test_data)"
   ]
  },
  {
   "cell_type": "code",
   "execution_count": 13,
   "metadata": {},
   "outputs": [
    {
     "name": "stdout",
     "output_type": "stream",
     "text": [
      "Info:\n",
      "  Traindata-Amount: 6 (3 per class)\n",
      "  Mean of 50 predictions and shuffles.\n",
      "  Model:train_svc\n",
      "\n",
      "Accuracy:\n",
      "  Mean: 66.93%, Median: 66.67%\n",
      "  Min: 46.67%, Max: 93.33%\n",
      "  Variance: 10.91\n"
     ]
    },
    {
     "data": {
      "image/png": "[encoded data removed]",
      "text/plain": [
       "<Figure size 1440x576 with 2 Axes>"
      ]
     },
     "metadata": {},
     "output_type": "display_data"
    }
   ],
   "source": [
    "train_test_with_random_entries(model_method=anoog.model.train_svc, entry_amount_per_class=3, try_amount=50)"
   ]
  },
  {
   "cell_type": "code",
   "execution_count": 14,
   "metadata": {},
   "outputs": [
    {
     "name": "stdout",
     "output_type": "stream",
     "text": [
      "Info:\n",
      "  Traindata-Amount: 6 (3 per class)\n",
      "  Mean of 50 predictions and shuffles.\n",
      "  Model:train_random_forest\n",
      "\n",
      "Accuracy:\n",
      "  Mean: 78.93%, Median: 80.0%\n",
      "  Min: 53.33%, Max: 100.0%\n",
      "  Variance: 11.65\n"
     ]
    },
    {
     "data": {
      "image/png": "[encoded data removed]",
      "text/plain": [
       "<Figure size 1440x576 with 2 Axes>"
      ]
     },
     "metadata": {},
     "output_type": "display_data"
    }
   ],
   "source": [
    "train_test_with_random_entries(model_method=anoog.model.train_random_forest, entry_amount_per_class=3, try_amount=50)"
   ]
  },
  {
   "cell_type": "markdown",
   "metadata": {},
   "source": [
    "---\n",
    "### Ergebnis"
   ]
  },
  {
   "cell_type": "markdown",
   "metadata": {},
   "source": [
    "Das Experiment zeigt, dass sehr wohl ungünstige Konstellationen exsistieren, bei denen der Algorithmus kein gutes Muster für die Person generieren kann.<br>\n",
    "Im Durchschnitt und im Median scheinen diese Konstellationen aber eher seltenerer Natur zu sein.<br>\n",
    "<br>\n",
    "Diese Ergebnisse wurden bei beiden Experimenten / Personenkonstellationen beobachtet."
   ]
  },
  {
   "cell_type": "markdown",
   "metadata": {},
   "source": [
    "---"
   ]
  }
 ],
 "metadata": {
  "interpreter": {
   "hash": "96a5d84734c2fcc0f1c4e29111ed2080412c48bc33f767562c76143427b08200"
  },
  "kernelspec": {
   "display_name": "Python 3.9.1 64-bit",
   "language": "python",
   "name": "python3"
  },
  "language_info": {
   "codemirror_mode": {
    "name": "ipython",
    "version": 3
   },
   "file_extension": ".py",
   "mimetype": "text/x-python",
   "name": "python",
   "nbconvert_exporter": "python",
   "pygments_lexer": "ipython3",
   "version": "3.9.7"
  },
  "orig_nbformat": 4
 },
 "nbformat": 4,
 "nbformat_minor": 2
}
