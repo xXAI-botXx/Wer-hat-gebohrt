{
 "cells": [
  {
   "cell_type": "markdown",
   "id": "236e7e55-c927-464b-8ba4-a6f2ae203193",
   "metadata": {},
   "source": [
    "# Projekt1 \"Wer Gruppe\"\n",
    "## LoadData Speed Tests"
   ]
  },
  {
   "cell_type": "markdown",
   "id": "80350ea9-ca0f-45a5-b57d-cb5cc66abcad",
   "metadata": {},
   "source": [
    "### 1. General Set Up"
   ]
  },
  {
   "cell_type": "code",
   "execution_count": null,
   "id": "7b8aadd5-abca-4409-bb6f-22398c7b930d",
   "metadata": {},
   "outputs": [],
   "source": [
    "# Automatically reload external modules (see https://ipython.org/ipython-doc/3/config/extensions/autoreload.html for more information)\n",
    "%load_ext autoreload\n",
    "%autoreload 2\n",
    "\n",
    "# Set up system path to include our \"anoog\" python package\n",
    "import sys\n",
    "sys.path.append('../../src')"
   ]
  },
  {
   "cell_type": "markdown",
   "id": "942dee55-589f-42fd-9e7b-933d733837d0",
   "metadata": {},
   "source": [
    "### 2. Import Packages / Modules"
   ]
  },
  {
   "cell_type": "code",
   "execution_count": null,
   "id": "8847ef76-8863-4f09-bfbf-aafb79179508",
   "metadata": {},
   "outputs": [],
   "source": [
    "from sklearn.tree import DecisionTreeClassifier\n",
    "from sklearn.ensemble import RandomForestClassifier\n",
    "\n",
    "import os\n",
    "import numpy as np\n",
    "import pandas as pd\n",
    "\n",
    "import time\n",
    "import anoog\n",
    "\n",
    "import matplotlib.pyplot as plt\n",
    "import plotly_express as px\n",
    "\n",
    "dataBasePath = '../../data'\n",
    "captureDir = '2021_10_11_16-54-59'"
   ]
  },
  {
   "cell_type": "markdown",
   "id": "cbd4fc49-6290-414e-8082-362c66164b70",
   "metadata": {},
   "source": [
    "### 3.Test Speef of different Dataframes"
   ]
  },
  {
   "cell_type": "markdown",
   "id": "d94d6732-8e04-4a1c-b044-93f26701657a",
   "metadata": {},
   "source": [
    "Use annog.io.loadData_mode to switch between different Data Frameworks:\n",
    "1. annog.io.loadData_mode -> Default Pandas Dataframe\n",
    "2. annog.io.loadData_mode -> Dask Dataframe"
   ]
  },
  {
   "cell_type": "markdown",
   "id": "bdc7ca80-b6e2-4d89-8fd6-236f6c9df561",
   "metadata": {},
   "source": [
    "#### Pandas Dataframe"
   ]
  },
  {
   "cell_type": "markdown",
   "id": "371432d1-cdc6-43b8-bbaa-b948f4bd9521",
   "metadata": {},
   "source": [
    "Test Speed for Pandas Dataframe:"
   ]
  },
  {
   "cell_type": "code",
   "execution_count": null,
   "id": "edf2722b-d6e0-471f-b7c9-6f05e6f09909",
   "metadata": {},
   "outputs": [],
   "source": [
    "start = time.time()\n",
    "data = anoog.io.read_csv(os.path.join(dataBasePath, captureDir, 'capture.csv'), anoog.io.loadData_mode.NONE)\n",
    "end = time.time()\n",
    "print(end - start)"
   ]
  },
  {
   "cell_type": "markdown",
   "id": "f73203cc-e9ad-4044-adc4-4cf1cd5a1992",
   "metadata": {},
   "source": [
    "#### Dask Dataframe"
   ]
  },
  {
   "cell_type": "markdown",
   "id": "21b1be56-695c-437c-8a1b-74cfc6610743",
   "metadata": {},
   "source": [
    "Test Speed for Dask Dataframe:"
   ]
  },
  {
   "cell_type": "code",
   "execution_count": null,
   "id": "1d9384b7-b0fe-492d-82ea-580535bd981d",
   "metadata": {},
   "outputs": [],
   "source": [
    "start = time.time()\n",
    "data2 = anoog.io.read_csv(os.path.join(dataBasePath, captureDir, 'capture.csv'), anoog.io.loadData_mode.DASK)\n",
    "end = time.time()\n",
    "print(end - start)"
   ]
  }
 ],
 "metadata": {
  "kernelspec": {
   "display_name": "Python 3",
   "language": "python",
   "name": "python3"
  },
  "language_info": {
   "codemirror_mode": {
    "name": "ipython",
    "version": 3
   },
   "file_extension": ".py",
   "mimetype": "text/x-python",
   "name": "python",
   "nbconvert_exporter": "python",
   "pygments_lexer": "ipython3",
   "version": "3.8.10"
  }
 },
 "nbformat": 4,
 "nbformat_minor": 5
}
