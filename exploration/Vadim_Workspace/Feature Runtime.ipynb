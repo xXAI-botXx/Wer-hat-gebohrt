{
 "cells": [
  {
   "cell_type": "code",
   "execution_count": 71,
   "id": "d753e055",
   "metadata": {},
   "outputs": [],
   "source": [
    "import os\n",
    "import sys\n",
    "import csv\n",
    "from enum import Enum\n",
    "\n",
    "import numpy as np\n",
    "import pandas as pd\n",
    "\n",
    "# For Feature Extraction\n",
    "import tsfresh as tsf\n",
    "sys.path.append('../../src')\n",
    "import anoog\n",
    "import time"
   ]
  },
  {
   "cell_type": "code",
   "execution_count": 3,
   "id": "a63480ea",
   "metadata": {},
   "outputs": [],
   "source": [
    "df = anoog.io.load_data(data_path='../../data/2021-11-09', \n",
    "                        persons=['skadkade', 'vkorzev'], \n",
    "                        extraction=anoog.io.extraction_mode.NONE,\n",
    "                        show_extraction=False,\n",
    "                        selection=anoog.io.selection_mode.NONE,\n",
    "                        train_test_split=False) \n",
    "df=df.drop(columns = [\"y\"])"
   ]
  },
  {
   "cell_type": "code",
   "execution_count": 4,
   "id": "20d56f72-c30d-42fa-9dae-0dcd7ccd53d6",
   "metadata": {
    "scrolled": true
   },
   "outputs": [
    {
     "data": {
      "text/html": [
       "<div>\n",
       "<style scoped>\n",
       "    .dataframe tbody tr th:only-of-type {\n",
       "        vertical-align: middle;\n",
       "    }\n",
       "\n",
       "    .dataframe tbody tr th {\n",
       "        vertical-align: top;\n",
       "    }\n",
       "\n",
       "    .dataframe thead th {\n",
       "        text-align: right;\n",
       "    }\n",
       "</style>\n",
       "<table border=\"1\" class=\"dataframe\">\n",
       "  <thead>\n",
       "    <tr style=\"text-align: right;\">\n",
       "      <th></th>\n",
       "      <th>Time</th>\n",
       "      <th>Audio</th>\n",
       "      <th>Voltage</th>\n",
       "      <th>Current</th>\n",
       "      <th>ID</th>\n",
       "    </tr>\n",
       "  </thead>\n",
       "  <tbody>\n",
       "    <tr>\n",
       "      <th>0</th>\n",
       "      <td>2021-11-09 11:51:30.000</td>\n",
       "      <td>-1.484375</td>\n",
       "      <td>20.408691</td>\n",
       "      <td>-0.719727</td>\n",
       "      <td>0.0</td>\n",
       "    </tr>\n",
       "    <tr>\n",
       "      <th>1</th>\n",
       "      <td>2021-11-09 11:51:30.010</td>\n",
       "      <td>3.084775</td>\n",
       "      <td>20.402274</td>\n",
       "      <td>-0.807125</td>\n",
       "      <td>0.0</td>\n",
       "    </tr>\n",
       "    <tr>\n",
       "      <th>2</th>\n",
       "      <td>2021-11-09 11:51:30.020</td>\n",
       "      <td>-1.039690</td>\n",
       "      <td>20.401973</td>\n",
       "      <td>-0.796764</td>\n",
       "      <td>0.0</td>\n",
       "    </tr>\n",
       "    <tr>\n",
       "      <th>3</th>\n",
       "      <td>2021-11-09 11:51:30.030</td>\n",
       "      <td>-1.501513</td>\n",
       "      <td>20.401470</td>\n",
       "      <td>-0.800560</td>\n",
       "      <td>0.0</td>\n",
       "    </tr>\n",
       "    <tr>\n",
       "      <th>4</th>\n",
       "      <td>2021-11-09 11:51:30.040</td>\n",
       "      <td>3.164062</td>\n",
       "      <td>20.402350</td>\n",
       "      <td>-0.803417</td>\n",
       "      <td>0.0</td>\n",
       "    </tr>\n",
       "    <tr>\n",
       "      <th>...</th>\n",
       "      <td>...</td>\n",
       "      <td>...</td>\n",
       "      <td>...</td>\n",
       "      <td>...</td>\n",
       "      <td>...</td>\n",
       "    </tr>\n",
       "    <tr>\n",
       "      <th>24137</th>\n",
       "      <td>2021-11-09 12:24:46.560</td>\n",
       "      <td>-0.077687</td>\n",
       "      <td>19.553144</td>\n",
       "      <td>-0.838514</td>\n",
       "      <td>24.0</td>\n",
       "    </tr>\n",
       "    <tr>\n",
       "      <th>24138</th>\n",
       "      <td>2021-11-09 12:24:46.570</td>\n",
       "      <td>0.538470</td>\n",
       "      <td>19.554451</td>\n",
       "      <td>-0.827846</td>\n",
       "      <td>24.0</td>\n",
       "    </tr>\n",
       "    <tr>\n",
       "      <th>24139</th>\n",
       "      <td>2021-11-09 12:24:46.580</td>\n",
       "      <td>-0.509043</td>\n",
       "      <td>19.554166</td>\n",
       "      <td>-0.829795</td>\n",
       "      <td>24.0</td>\n",
       "    </tr>\n",
       "    <tr>\n",
       "      <th>24140</th>\n",
       "      <td>2021-11-09 12:24:46.590</td>\n",
       "      <td>0.256057</td>\n",
       "      <td>19.555244</td>\n",
       "      <td>-0.832509</td>\n",
       "      <td>24.0</td>\n",
       "    </tr>\n",
       "    <tr>\n",
       "      <th>24141</th>\n",
       "      <td>2021-11-09 12:24:46.600</td>\n",
       "      <td>0.541104</td>\n",
       "      <td>19.555779</td>\n",
       "      <td>-0.840529</td>\n",
       "      <td>24.0</td>\n",
       "    </tr>\n",
       "  </tbody>\n",
       "</table>\n",
       "<p>24142 rows × 5 columns</p>\n",
       "</div>"
      ],
      "text/plain": [
       "                         Time     Audio    Voltage   Current    ID\n",
       "0     2021-11-09 11:51:30.000 -1.484375  20.408691 -0.719727   0.0\n",
       "1     2021-11-09 11:51:30.010  3.084775  20.402274 -0.807125   0.0\n",
       "2     2021-11-09 11:51:30.020 -1.039690  20.401973 -0.796764   0.0\n",
       "3     2021-11-09 11:51:30.030 -1.501513  20.401470 -0.800560   0.0\n",
       "4     2021-11-09 11:51:30.040  3.164062  20.402350 -0.803417   0.0\n",
       "...                       ...       ...        ...       ...   ...\n",
       "24137 2021-11-09 12:24:46.560 -0.077687  19.553144 -0.838514  24.0\n",
       "24138 2021-11-09 12:24:46.570  0.538470  19.554451 -0.827846  24.0\n",
       "24139 2021-11-09 12:24:46.580 -0.509043  19.554166 -0.829795  24.0\n",
       "24140 2021-11-09 12:24:46.590  0.256057  19.555244 -0.832509  24.0\n",
       "24141 2021-11-09 12:24:46.600  0.541104  19.555779 -0.840529  24.0\n",
       "\n",
       "[24142 rows x 5 columns]"
      ]
     },
     "execution_count": 4,
     "metadata": {},
     "output_type": "execute_result"
    }
   ],
   "source": [
    "df"
   ]
  },
  {
   "cell_type": "code",
   "execution_count": 69,
   "id": "88fc7144-154a-4278-b6e6-c60b81cd1295",
   "metadata": {},
   "outputs": [
    {
     "name": "stdout",
     "output_type": "stream",
     "text": [
      "{'Audio': {'length': [], 'count_below_mean': [], 'cid_ce_normalize_true': [], 'number_peaks': []}}\n"
     ]
    }
   ],
   "source": [
    "#Funktioniert nicht, da tsfresh eine komplexe art der Variablenbezeichnung hat\n",
    "features = [\"Audio__length\",\n",
    "        \"Audio__count_below_mean\",\n",
    "        \"Audio__cid_ce_normalize_true\",\n",
    "        \"Audio__number_peaks\"]\n",
    "\n",
    "def magic(features):\n",
    "    tup = dict()\n",
    "    for i in features:\n",
    "        if \"Audio__\" in i:\n",
    "            tup[\"Audio\"] = dict()\n",
    "        if \"Current__\" in i:\n",
    "             tup[\"Current\"] = dict()\n",
    "        if \"Voltage__\" in i:\n",
    "             tup[\"Voltage\"] = dict()\n",
    "\n",
    "    for i in features:\n",
    "        if \"Audio__\" in i[0:7]:\n",
    "            tup[\"Audio\"][i[7:]] = []\n",
    "        if \"Current__\"[::-1] in i[8::-1]:\n",
    "            tup[\"Current\"][i[8:]] = []\n",
    "        if \"Voltage__\"[::-1] in i[8::-1]:\n",
    "            tup[\"Voltage\"][i[8:]] = []\n",
    "            \n",
    "    return tup\n",
    "\n",
    "print(magic(features))"
   ]
  },
  {
   "cell_type": "code",
   "execution_count": 89,
   "id": "b7bdece1-ecde-4327-b5e7-174bb195b711",
   "metadata": {
    "scrolled": true
   },
   "outputs": [
    {
     "name": "stderr",
     "output_type": "stream",
     "text": [
      "Feature Extraction: 100%|██████████████████████████████████████████████████████████████| 20/20 [00:26<00:00,  1.34s/it]\n"
     ]
    },
    {
     "name": "stdout",
     "output_type": "stream",
     "text": [
      "26.931265354156494\n"
     ]
    }
   ],
   "source": [
    "# Variance Thresholding\n",
    "start = time.time()\n",
    "tsf.feature_extraction.extraction.extract_features(df,column_id=\"ID\",kind_to_fc_parameters={'Audio': {\"variation_coefficient\": [], \"fft_aggregated\":[{\"aggtype\": \"variance\"}]}, \"Voltage\": {\"sum_values\": [], \"abs_energy\": [], \"sum_of_reoccurring_data_points\": [], \"fft_coefficient\": [{\"attr\": \"real\",\"coeff\":0}], \"fft_coefficient\": [{\"attr\":\"abs\",\"coeff\":0}], \"fft_aggregated\": [{\"aggtype\":\"variance\"}], \"friedrich_coefficients\": [{\"coeff\":3,\"m\":3,\"r\":30}]}, \"Current\": {\"abs_energy\": [], \"fft_aggregated\":[{\"aggtype\":\"variance\"}]}})\n",
    "ende = time.time()\n",
    "print(ende-start)"
   ]
  },
  {
   "cell_type": "code",
   "execution_count": 91,
   "id": "43ae47c5",
   "metadata": {},
   "outputs": [
    {
     "name": "stderr",
     "output_type": "stream",
     "text": [
      "Feature Extraction: 100%|██████████████████████████████████████████████████████████████| 20/20 [00:26<00:00,  1.33s/it]"
     ]
    },
    {
     "name": "stdout",
     "output_type": "stream",
     "text": [
      "26.643812656402588\n"
     ]
    },
    {
     "name": "stderr",
     "output_type": "stream",
     "text": [
      "\n"
     ]
    }
   ],
   "source": [
    "# Modelbased Selection\n",
    "start = time.time()\n",
    "tsf.feature_extraction.extraction.extract_features(df,column_id=\"ID\",kind_to_fc_parameters={'Audio': {\"count_above_mean\":[]}})\n",
    "ende = time.time()\n",
    "print(ende-start)"
   ]
  },
  {
   "cell_type": "markdown",
   "id": "602d0078",
   "metadata": {},
   "source": [
    "- SelektKBest: 28.98436403274536 \n",
    "- Variance Thresholding: 26.931265354156494 - 31.487123250961304\n",
    "- Modelbased Selection: 26.37845492362976 - 31.235893487930298\n",
    "\n",
    "### SelektKBest: \n",
    "- Audio__length\n",
    "- Audio__count_below_mean\n",
    "- Audio__cid_ce__normalize_True\n",
    "- Audio__number_peaks__n_1\n",
    "- Audio__number_peaks__n_5\n",
    "\n",
    "### Variance Thresholding: \n",
    "- Audio__variation_coefficient\n",
    "- Audio__fft_aggregated__aggtype_\"variance\"\n",
    "- Voltage__sum_values\n",
    "- Voltage__abs_energy Voltage__sum_of_reoccurring_data_points\n",
    "- Voltage__fft_coefficient__attr_\"real\"__coeff_0\n",
    "- Voltage__fft_coefficient__attr_\"abs\"__coeff_0\n",
    "- Voltage__fft_aggregated__aggtype_\"variance\"\n",
    "- Voltage__friedrich_coefficients__coeff_3__m_3__r_30\n",
    "- Current__abs_energy\n",
    "- Current__fft_aggregated__aggtype_\"variance\"\n",
    "\n",
    "### Modelbased Selection\n",
    "- Audio__count_above_mean"
   ]
  },
  {
   "cell_type": "code",
   "execution_count": null,
   "id": "6838d427",
   "metadata": {},
   "outputs": [],
   "source": []
  }
 ],
 "metadata": {
  "kernelspec": {
   "display_name": "Python 3",
   "language": "python",
   "name": "python3"
  },
  "language_info": {
   "codemirror_mode": {
    "name": "ipython",
    "version": 3
   },
   "file_extension": ".py",
   "mimetype": "text/x-python",
   "name": "python",
   "nbconvert_exporter": "python",
   "pygments_lexer": "ipython3",
   "version": "3.8.8"
  }
 },
 "nbformat": 4,
 "nbformat_minor": 5
}
