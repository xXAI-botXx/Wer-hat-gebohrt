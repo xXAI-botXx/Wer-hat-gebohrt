{
 "cells": [
  {
   "cell_type": "code",
   "execution_count": 14,
   "id": "80a9c773",
   "metadata": {},
   "outputs": [
    {
     "name": "stdout",
     "output_type": "stream",
     "text": [
      "The autoreload extension is already loaded. To reload it, use:\n",
      "  %reload_ext autoreload\n"
     ]
    }
   ],
   "source": [
    "%load_ext autoreload\n",
    "%autoreload 2\n",
    "\n",
    "import os\n",
    "\n",
    "import numpy as np\n",
    "import pandas as pd\n",
    "from sklearn.ensemble import RandomForestClassifier\n",
    "\n",
    "import sys\n",
    "sys.path.append('../src')\n",
    "\n",
    "import anoog"
   ]
  },
  {
   "cell_type": "markdown",
   "id": "400fbdba",
   "metadata": {},
   "source": [
    "## Model.py Testing"
   ]
  },
  {
   "cell_type": "markdown",
   "id": "7dbfbf31",
   "metadata": {},
   "source": [
    "Data Loading"
   ]
  },
  {
   "cell_type": "code",
   "execution_count": 20,
   "id": "56f95ab7",
   "metadata": {},
   "outputs": [
    {
     "name": "stderr",
     "output_type": "stream",
     "text": [
      "Feature Extraction: 100%|██████████| 30/30 [00:17<00:00,  1.70it/s]\n",
      "C:\\Anaconda3\\envs\\aki\\lib\\site-packages\\tsfresh\\utilities\\dataframe_functions.py:171: RuntimeWarning: The columns ['Current__query_similarity_count__query_None__threshold_0.0'\n",
      " 'Audio__query_similarity_count__query_None__threshold_0.0'\n",
      " 'Voltage__query_similarity_count__query_None__threshold_0.0'] did not have any finite values. Filling with zeros.\n",
      "  warnings.warn(\"The columns {} did not have any finite values. Filling with zeros.\".format(\n",
      "c:\\Users\\user\\Desktop\\Studium\\3_Semester\\Projekt_1\\wer\\src\\anoog\\io\\data_io.py:66: SettingWithCopyWarning: \n",
      "A value is trying to be set on a copy of a slice from a DataFrame.\n",
      "Try using .loc[row_indexer,col_indexer] = value instead\n",
      "\n",
      "See the caveats in the documentation: https://pandas.pydata.org/pandas-docs/stable/user_guide/indexing.html#returning-a-view-versus-a-copy\n",
      "  result_datasets[i]['y'] = data[1]\n"
     ]
    }
   ],
   "source": [
    "train_df, test_df = anoog.io.load_data(\"../data/2021-11-09\", \n",
    "                                        ['tippolit', 'vkorzev'],\n",
    "                                        extraction=anoog.io.extraction_mode.TSFRESH,\n",
    "                                        selection=anoog.io.selection_mode.NONE,\n",
    "                                        train_test_split=True,\n",
    "                                        test_size=0.1)\n",
    "\n",
    "X_train, y_train = train_df.iloc[:, :-1], train_df.loc[:, 'y']\n",
    "X_test, y_test = test_df.iloc[:, :-1], test_df.loc[:, 'y']"
   ]
  },
  {
   "cell_type": "code",
   "execution_count": 21,
   "id": "ba1ef678",
   "metadata": {},
   "outputs": [],
   "source": [
    "train_df = pd.read_csv(\"../data/tobia_vadim_2021_11_09_train.csv\")\n",
    "test_df = pd.read_csv(\"../data/tobia_vadim_2021_11_09_test.csv\")\n",
    "\n",
    "X_train, y_train = train_df.iloc[:, :-1], train_df.loc[:, 'y']\n",
    "X_test, y_test = test_df.iloc[:, :-1], test_df.loc[:, 'y']"
   ]
  },
  {
   "cell_type": "markdown",
   "id": "2962f9d2",
   "metadata": {},
   "source": [
    "Model training"
   ]
  },
  {
   "cell_type": "code",
   "execution_count": 22,
   "id": "11233930",
   "metadata": {},
   "outputs": [],
   "source": [
    "model = anoog.model.train_random_forest(X_train, y_train)"
   ]
  },
  {
   "cell_type": "markdown",
   "id": "c56da206",
   "metadata": {},
   "source": [
    "Model evaluating"
   ]
  },
  {
   "cell_type": "code",
   "execution_count": 23,
   "id": "89665441",
   "metadata": {},
   "outputs": [
    {
     "name": "stdout",
     "output_type": "stream",
     "text": [
      "Accuracy: 100.0\n"
     ]
    },
    {
     "data": {
      "text/plain": [
       "array([[6, 0],\n",
       "       [0, 9]], dtype=int64)"
      ]
     },
     "execution_count": 23,
     "metadata": {},
     "output_type": "execute_result"
    }
   ],
   "source": [
    "acc, con = anoog.model.evaluate_model(model, X_test, y_test)\n",
    "print(\"Accuracy:\", acc)\n",
    "con"
   ]
  },
  {
   "cell_type": "code",
   "execution_count": 19,
   "id": "abad0125",
   "metadata": {},
   "outputs": [],
   "source": [
    "#3 verschiedene kombi: Tobia - Vadim, Tobia - Syon, Vadim - Syon\n",
    "#Tobia - Vadim\n",
    "d = {}"
   ]
  }
 ],
 "metadata": {
  "kernelspec": {
   "display_name": "Python 3",
   "language": "python",
   "name": "python3"
  },
  "language_info": {
   "codemirror_mode": {
    "name": "ipython",
    "version": 3
   },
   "file_extension": ".py",
   "mimetype": "text/x-python",
   "name": "python",
   "nbconvert_exporter": "python",
   "pygments_lexer": "ipython3",
   "version": "3.8.8"
  }
 },
 "nbformat": 4,
 "nbformat_minor": 5
}
