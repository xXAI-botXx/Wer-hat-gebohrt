{
 "cells": [
  {
   "cell_type": "code",
   "execution_count": 21,
   "id": "74ea8859",
   "metadata": {
    "scrolled": false
   },
   "outputs": [
    {
     "data": {
      "text/plain": [
       "0.875"
      ]
     },
     "execution_count": 21,
     "metadata": {},
     "output_type": "execute_result"
    }
   ],
   "source": [
    "import os\n",
    "\n",
    "import numpy as np\n",
    "import pandas as pd\n",
    "from sklearn.ensemble import RandomForestClassifier\n",
    "\n",
    "import sys\n",
    "sys.path.append('../src')\n",
    "\n",
    "\n",
    "# Here is the space of the AI-Algorithm\n",
    "# Implement RandomForest here \n",
    "\n",
    "# data loading...\n",
    "#df = data_io.load_train_test_data(\"../../../data/2021-11-02\", ['vkorzev', 'tippolit'], calculate_features=False)\n",
    "train_df = pd.read_csv(\"../../data/prepared_train_data_2021-11-02.csv\")\n",
    "test_df = pd.read_csv(\"../../data/prepared_test_data_2021-11-02.csv\")\n",
    "\n",
    "X_train, y_train = train_df.iloc[:, :-1], train_df.loc[:, 'y']\n",
    "X_test, y_test = test_df.iloc[:, :-1], test_df.loc[:, 'y']\n",
    "# Classifier Randomforest\n",
    "model = RandomForestClassifier(n_estimators=100, \n",
    "                               bootstrap = True,\n",
    "                               max_features = 'sqrt')\n",
    "# Fit on training data\n",
    "model = model.fit(X_train, y_train)\n",
    "\n",
    "#accuracy\n",
    "from sklearn.metrics import accuracy_score\n",
    "y_pred = model.predict(X_test)\n",
    "accuracy_score(y_test, y_pred)"
   ]
  },
  {
   "cell_type": "code",
   "execution_count": 20,
   "id": "cb4245bd",
   "metadata": {},
   "outputs": [
    {
     "data": {
      "text/plain": [
       "array([[6, 1],\n",
       "       [1, 8]], dtype=int64)"
      ]
     },
     "execution_count": 20,
     "metadata": {},
     "output_type": "execute_result"
    }
   ],
   "source": [
    "#confusion_matrix\n",
    "from sklearn.metrics import confusion_matrix\n",
    "confusion_matrix(y_test, y_pred)"
   ]
  }
 ],
 "metadata": {
  "kernelspec": {
   "display_name": "Python 3",
   "language": "python",
   "name": "python3"
  },
  "language_info": {
   "codemirror_mode": {
    "name": "ipython",
    "version": 3
   },
   "file_extension": ".py",
   "mimetype": "text/x-python",
   "name": "python",
   "nbconvert_exporter": "python",
   "pygments_lexer": "ipython3",
   "version": "3.8.8"
  }
 },
 "nbformat": 4,
 "nbformat_minor": 5
}
