{
 "cells": [
  {
   "cell_type": "code",
   "execution_count": 24,
   "id": "80a9c773",
   "metadata": {},
   "outputs": [
    {
     "name": "stdout",
     "output_type": "stream",
     "text": [
      "The autoreload extension is already loaded. To reload it, use:\n",
      "  %reload_ext autoreload\n"
     ]
    }
   ],
   "source": [
    "%load_ext autoreload\n",
    "%autoreload 2\n",
    "\n",
    "import os\n",
    "\n",
    "import numpy as np\n",
    "import pandas as pd\n",
    "from sklearn.ensemble import RandomForestClassifier\n",
    "\n",
    "import sys\n",
    "sys.path.append('../src')\n",
    "\n",
    "import anoog"
   ]
  },
  {
   "cell_type": "markdown",
   "id": "400fbdba",
   "metadata": {},
   "source": [
    "## Model.py Testing"
   ]
  },
  {
   "cell_type": "markdown",
   "id": "7dbfbf31",
   "metadata": {},
   "source": [
    "Data Loading"
   ]
  },
  {
   "cell_type": "code",
   "execution_count": 25,
   "id": "c06516be",
   "metadata": {},
   "outputs": [],
   "source": [
    "#3 verschiedene kombi: \n",
    "# names :   'tippolit', 'vkorzev', 'skadkade'\n",
    "#Tobia - Vadim\n",
    "l1 = []\n",
    "#Tobia - Syon\n",
    "l2 = []\n",
    "#Vadim - Syon\n",
    "l3 = []"
   ]
  },
  {
   "cell_type": "code",
   "execution_count": 26,
   "id": "56f95ab7",
   "metadata": {},
   "outputs": [
    {
     "name": "stderr",
     "output_type": "stream",
     "text": [
      "Feature Extraction: 100%|██████████| 30/30 [00:17<00:00,  1.70it/s]\n",
      "C:\\Anaconda3\\envs\\aki\\lib\\site-packages\\tsfresh\\utilities\\dataframe_functions.py:171: RuntimeWarning: The columns ['Voltage__query_similarity_count__query_None__threshold_0.0'\n",
      " 'Current__query_similarity_count__query_None__threshold_0.0'\n",
      " 'Audio__query_similarity_count__query_None__threshold_0.0'] did not have any finite values. Filling with zeros.\n",
      "  warnings.warn(\"The columns {} did not have any finite values. Filling with zeros.\".format(\n",
      "c:\\Users\\user\\Desktop\\Studium\\3_Semester\\Projekt_1\\wer\\src\\anoog\\io\\data_io.py:67: SettingWithCopyWarning: \n",
      "A value is trying to be set on a copy of a slice from a DataFrame.\n",
      "Try using .loc[row_indexer,col_indexer] = value instead\n",
      "\n",
      "See the caveats in the documentation: https://pandas.pydata.org/pandas-docs/stable/user_guide/indexing.html#returning-a-view-versus-a-copy\n",
      "  new_dataset['y'] = data[1]\n"
     ]
    },
    {
     "name": "stdout",
     "output_type": "stream",
     "text": [
      "Accuracy: 100.0\n"
     ]
    },
    {
     "name": "stderr",
     "output_type": "stream",
     "text": [
      "Feature Extraction: 100%|██████████| 30/30 [00:16<00:00,  1.79it/s]\n",
      "C:\\Anaconda3\\envs\\aki\\lib\\site-packages\\tsfresh\\utilities\\dataframe_functions.py:171: RuntimeWarning: The columns ['Voltage__query_similarity_count__query_None__threshold_0.0'\n",
      " 'Current__query_similarity_count__query_None__threshold_0.0'\n",
      " 'Audio__query_similarity_count__query_None__threshold_0.0'] did not have any finite values. Filling with zeros.\n",
      "  warnings.warn(\"The columns {} did not have any finite values. Filling with zeros.\".format(\n",
      "c:\\Users\\user\\Desktop\\Studium\\3_Semester\\Projekt_1\\wer\\src\\anoog\\io\\data_io.py:67: SettingWithCopyWarning: \n",
      "A value is trying to be set on a copy of a slice from a DataFrame.\n",
      "Try using .loc[row_indexer,col_indexer] = value instead\n",
      "\n",
      "See the caveats in the documentation: https://pandas.pydata.org/pandas-docs/stable/user_guide/indexing.html#returning-a-view-versus-a-copy\n",
      "  new_dataset['y'] = data[1]\n"
     ]
    },
    {
     "name": "stdout",
     "output_type": "stream",
     "text": [
      "Accuracy: 100.0\n"
     ]
    },
    {
     "name": "stderr",
     "output_type": "stream",
     "text": [
      "Feature Extraction: 100%|██████████| 30/30 [00:16<00:00,  1.82it/s]\n",
      "C:\\Anaconda3\\envs\\aki\\lib\\site-packages\\tsfresh\\utilities\\dataframe_functions.py:171: RuntimeWarning: The columns ['Voltage__query_similarity_count__query_None__threshold_0.0'\n",
      " 'Current__query_similarity_count__query_None__threshold_0.0'\n",
      " 'Audio__query_similarity_count__query_None__threshold_0.0'] did not have any finite values. Filling with zeros.\n",
      "  warnings.warn(\"The columns {} did not have any finite values. Filling with zeros.\".format(\n",
      "c:\\Users\\user\\Desktop\\Studium\\3_Semester\\Projekt_1\\wer\\src\\anoog\\io\\data_io.py:67: SettingWithCopyWarning: \n",
      "A value is trying to be set on a copy of a slice from a DataFrame.\n",
      "Try using .loc[row_indexer,col_indexer] = value instead\n",
      "\n",
      "See the caveats in the documentation: https://pandas.pydata.org/pandas-docs/stable/user_guide/indexing.html#returning-a-view-versus-a-copy\n",
      "  new_dataset['y'] = data[1]\n"
     ]
    },
    {
     "name": "stdout",
     "output_type": "stream",
     "text": [
      "Accuracy: 100.0\n"
     ]
    },
    {
     "name": "stderr",
     "output_type": "stream",
     "text": [
      "Feature Extraction: 100%|██████████| 30/30 [00:17<00:00,  1.68it/s]\n",
      "C:\\Anaconda3\\envs\\aki\\lib\\site-packages\\tsfresh\\utilities\\dataframe_functions.py:171: RuntimeWarning: The columns ['Voltage__query_similarity_count__query_None__threshold_0.0'\n",
      " 'Current__query_similarity_count__query_None__threshold_0.0'\n",
      " 'Audio__query_similarity_count__query_None__threshold_0.0'] did not have any finite values. Filling with zeros.\n",
      "  warnings.warn(\"The columns {} did not have any finite values. Filling with zeros.\".format(\n",
      "c:\\Users\\user\\Desktop\\Studium\\3_Semester\\Projekt_1\\wer\\src\\anoog\\io\\data_io.py:67: SettingWithCopyWarning: \n",
      "A value is trying to be set on a copy of a slice from a DataFrame.\n",
      "Try using .loc[row_indexer,col_indexer] = value instead\n",
      "\n",
      "See the caveats in the documentation: https://pandas.pydata.org/pandas-docs/stable/user_guide/indexing.html#returning-a-view-versus-a-copy\n",
      "  new_dataset['y'] = data[1]\n"
     ]
    },
    {
     "name": "stdout",
     "output_type": "stream",
     "text": [
      "Accuracy: 100.0\n"
     ]
    },
    {
     "name": "stderr",
     "output_type": "stream",
     "text": [
      "Feature Extraction: 100%|██████████| 30/30 [00:18<00:00,  1.60it/s]\n",
      "C:\\Anaconda3\\envs\\aki\\lib\\site-packages\\tsfresh\\utilities\\dataframe_functions.py:171: RuntimeWarning: The columns ['Voltage__query_similarity_count__query_None__threshold_0.0'\n",
      " 'Current__query_similarity_count__query_None__threshold_0.0'\n",
      " 'Audio__query_similarity_count__query_None__threshold_0.0'] did not have any finite values. Filling with zeros.\n",
      "  warnings.warn(\"The columns {} did not have any finite values. Filling with zeros.\".format(\n",
      "c:\\Users\\user\\Desktop\\Studium\\3_Semester\\Projekt_1\\wer\\src\\anoog\\io\\data_io.py:67: SettingWithCopyWarning: \n",
      "A value is trying to be set on a copy of a slice from a DataFrame.\n",
      "Try using .loc[row_indexer,col_indexer] = value instead\n",
      "\n",
      "See the caveats in the documentation: https://pandas.pydata.org/pandas-docs/stable/user_guide/indexing.html#returning-a-view-versus-a-copy\n",
      "  new_dataset['y'] = data[1]\n"
     ]
    },
    {
     "name": "stdout",
     "output_type": "stream",
     "text": [
      "Accuracy: 100.0\n"
     ]
    },
    {
     "name": "stderr",
     "output_type": "stream",
     "text": [
      "Feature Extraction: 100%|██████████| 30/30 [00:17<00:00,  1.76it/s]\n",
      "C:\\Anaconda3\\envs\\aki\\lib\\site-packages\\tsfresh\\utilities\\dataframe_functions.py:171: RuntimeWarning: The columns ['Voltage__query_similarity_count__query_None__threshold_0.0'\n",
      " 'Current__query_similarity_count__query_None__threshold_0.0'\n",
      " 'Audio__query_similarity_count__query_None__threshold_0.0'] did not have any finite values. Filling with zeros.\n",
      "  warnings.warn(\"The columns {} did not have any finite values. Filling with zeros.\".format(\n",
      "c:\\Users\\user\\Desktop\\Studium\\3_Semester\\Projekt_1\\wer\\src\\anoog\\io\\data_io.py:67: SettingWithCopyWarning: \n",
      "A value is trying to be set on a copy of a slice from a DataFrame.\n",
      "Try using .loc[row_indexer,col_indexer] = value instead\n",
      "\n",
      "See the caveats in the documentation: https://pandas.pydata.org/pandas-docs/stable/user_guide/indexing.html#returning-a-view-versus-a-copy\n",
      "  new_dataset['y'] = data[1]\n"
     ]
    },
    {
     "name": "stdout",
     "output_type": "stream",
     "text": [
      "Accuracy: 100.0\n"
     ]
    },
    {
     "name": "stderr",
     "output_type": "stream",
     "text": [
      "Feature Extraction: 100%|██████████| 30/30 [00:18<00:00,  1.65it/s]\n",
      "C:\\Anaconda3\\envs\\aki\\lib\\site-packages\\tsfresh\\utilities\\dataframe_functions.py:171: RuntimeWarning: The columns ['Current__query_similarity_count__query_None__threshold_0.0'\n",
      " 'Audio__query_similarity_count__query_None__threshold_0.0'\n",
      " 'Voltage__query_similarity_count__query_None__threshold_0.0'] did not have any finite values. Filling with zeros.\n",
      "  warnings.warn(\"The columns {} did not have any finite values. Filling with zeros.\".format(\n",
      "c:\\Users\\user\\Desktop\\Studium\\3_Semester\\Projekt_1\\wer\\src\\anoog\\io\\data_io.py:67: SettingWithCopyWarning: \n",
      "A value is trying to be set on a copy of a slice from a DataFrame.\n",
      "Try using .loc[row_indexer,col_indexer] = value instead\n",
      "\n",
      "See the caveats in the documentation: https://pandas.pydata.org/pandas-docs/stable/user_guide/indexing.html#returning-a-view-versus-a-copy\n",
      "  new_dataset['y'] = data[1]\n"
     ]
    },
    {
     "name": "stdout",
     "output_type": "stream",
     "text": [
      "Accuracy: 100.0\n"
     ]
    },
    {
     "name": "stderr",
     "output_type": "stream",
     "text": [
      "Feature Extraction: 100%|██████████| 30/30 [00:16<00:00,  1.79it/s]\n",
      "C:\\Anaconda3\\envs\\aki\\lib\\site-packages\\tsfresh\\utilities\\dataframe_functions.py:171: RuntimeWarning: The columns ['Voltage__query_similarity_count__query_None__threshold_0.0'\n",
      " 'Current__query_similarity_count__query_None__threshold_0.0'\n",
      " 'Audio__query_similarity_count__query_None__threshold_0.0'] did not have any finite values. Filling with zeros.\n",
      "  warnings.warn(\"The columns {} did not have any finite values. Filling with zeros.\".format(\n",
      "c:\\Users\\user\\Desktop\\Studium\\3_Semester\\Projekt_1\\wer\\src\\anoog\\io\\data_io.py:67: SettingWithCopyWarning: \n",
      "A value is trying to be set on a copy of a slice from a DataFrame.\n",
      "Try using .loc[row_indexer,col_indexer] = value instead\n",
      "\n",
      "See the caveats in the documentation: https://pandas.pydata.org/pandas-docs/stable/user_guide/indexing.html#returning-a-view-versus-a-copy\n",
      "  new_dataset['y'] = data[1]\n"
     ]
    },
    {
     "name": "stdout",
     "output_type": "stream",
     "text": [
      "Accuracy: 100.0\n"
     ]
    },
    {
     "name": "stderr",
     "output_type": "stream",
     "text": [
      "Feature Extraction: 100%|██████████| 30/30 [00:16<00:00,  1.81it/s]\n",
      "C:\\Anaconda3\\envs\\aki\\lib\\site-packages\\tsfresh\\utilities\\dataframe_functions.py:171: RuntimeWarning: The columns ['Current__query_similarity_count__query_None__threshold_0.0'\n",
      " 'Audio__query_similarity_count__query_None__threshold_0.0'\n",
      " 'Voltage__query_similarity_count__query_None__threshold_0.0'] did not have any finite values. Filling with zeros.\n",
      "  warnings.warn(\"The columns {} did not have any finite values. Filling with zeros.\".format(\n",
      "c:\\Users\\user\\Desktop\\Studium\\3_Semester\\Projekt_1\\wer\\src\\anoog\\io\\data_io.py:67: SettingWithCopyWarning: \n",
      "A value is trying to be set on a copy of a slice from a DataFrame.\n",
      "Try using .loc[row_indexer,col_indexer] = value instead\n",
      "\n",
      "See the caveats in the documentation: https://pandas.pydata.org/pandas-docs/stable/user_guide/indexing.html#returning-a-view-versus-a-copy\n",
      "  new_dataset['y'] = data[1]\n"
     ]
    },
    {
     "name": "stdout",
     "output_type": "stream",
     "text": [
      "Accuracy: 100.0\n"
     ]
    }
   ],
   "source": [
    "for i in range(1, 10):\n",
    "    train_df, test_df = anoog.io.load_data(\"../data/2021-11-09\", \n",
    "                                            ['tippolit', 'vkorzev'],\n",
    "                                            extraction=anoog.io.extraction_mode.TSFRESH,\n",
    "                                            selection=anoog.io.selection_mode.NONE,\n",
    "                                            train_test_split=True,\n",
    "                                            test_size= i/10)\n",
    "\n",
    "    X_train, y_train = train_df.iloc[:, :-1], train_df.loc[:, 'y']\n",
    "    X_test, y_test = test_df.iloc[:, :-1], test_df.loc[:, 'y']\n",
    "\n",
    "    train_df = pd.read_csv(\"../data/tobia_vadim_2021_11_09_train.csv\")\n",
    "    test_df = pd.read_csv(\"../data/tobia_vadim_2021_11_09_test.csv\")\n",
    "\n",
    "    X_train, y_train = train_df.iloc[:, :-1], train_df.loc[:, 'y']\n",
    "    X_test, y_test = test_df.iloc[:, :-1], test_df.loc[:, 'y']\n",
    "\n",
    "    #Model training\n",
    "    model = anoog.model.train_random_forest(X_train, y_train)\n",
    "\n",
    "    #Model evaluation\n",
    "    acc, con = anoog.model.evaluate_model(model, X_test, y_test)\n",
    "    print(\"Accuracy:\", acc)\n",
    "    con\n",
    "    l1.append(i)\n",
    "    l1.append(acc)"
   ]
  },
  {
   "cell_type": "code",
   "execution_count": 29,
   "id": "d2f51b17",
   "metadata": {},
   "outputs": [
    {
     "name": "stderr",
     "output_type": "stream",
     "text": [
      "Feature Extraction: 100%|██████████| 30/30 [00:24<00:00,  1.21it/s]\n",
      "C:\\Anaconda3\\envs\\aki\\lib\\site-packages\\tsfresh\\utilities\\dataframe_functions.py:171: RuntimeWarning: The columns ['Current__query_similarity_count__query_None__threshold_0.0'\n",
      " 'Audio__query_similarity_count__query_None__threshold_0.0'\n",
      " 'Voltage__query_similarity_count__query_None__threshold_0.0'] did not have any finite values. Filling with zeros.\n",
      "  warnings.warn(\"The columns {} did not have any finite values. Filling with zeros.\".format(\n",
      "c:\\Users\\user\\Desktop\\Studium\\3_Semester\\Projekt_1\\wer\\src\\anoog\\io\\data_io.py:67: SettingWithCopyWarning: \n",
      "A value is trying to be set on a copy of a slice from a DataFrame.\n",
      "Try using .loc[row_indexer,col_indexer] = value instead\n",
      "\n",
      "See the caveats in the documentation: https://pandas.pydata.org/pandas-docs/stable/user_guide/indexing.html#returning-a-view-versus-a-copy\n",
      "  new_dataset['y'] = data[1]\n"
     ]
    },
    {
     "name": "stdout",
     "output_type": "stream",
     "text": [
      "Accuracy: 100.0\n"
     ]
    },
    {
     "name": "stderr",
     "output_type": "stream",
     "text": [
      "Feature Extraction: 100%|██████████| 30/30 [00:24<00:00,  1.22it/s]\n",
      "C:\\Anaconda3\\envs\\aki\\lib\\site-packages\\tsfresh\\utilities\\dataframe_functions.py:171: RuntimeWarning: The columns ['Current__query_similarity_count__query_None__threshold_0.0'\n",
      " 'Audio__query_similarity_count__query_None__threshold_0.0'\n",
      " 'Voltage__query_similarity_count__query_None__threshold_0.0'] did not have any finite values. Filling with zeros.\n",
      "  warnings.warn(\"The columns {} did not have any finite values. Filling with zeros.\".format(\n",
      "c:\\Users\\user\\Desktop\\Studium\\3_Semester\\Projekt_1\\wer\\src\\anoog\\io\\data_io.py:67: SettingWithCopyWarning: \n",
      "A value is trying to be set on a copy of a slice from a DataFrame.\n",
      "Try using .loc[row_indexer,col_indexer] = value instead\n",
      "\n",
      "See the caveats in the documentation: https://pandas.pydata.org/pandas-docs/stable/user_guide/indexing.html#returning-a-view-versus-a-copy\n",
      "  new_dataset['y'] = data[1]\n"
     ]
    },
    {
     "name": "stdout",
     "output_type": "stream",
     "text": [
      "Accuracy: 100.0\n"
     ]
    },
    {
     "name": "stderr",
     "output_type": "stream",
     "text": [
      "Feature Extraction: 100%|██████████| 30/30 [00:24<00:00,  1.25it/s]\n",
      "C:\\Anaconda3\\envs\\aki\\lib\\site-packages\\tsfresh\\utilities\\dataframe_functions.py:171: RuntimeWarning: The columns ['Voltage__query_similarity_count__query_None__threshold_0.0'\n",
      " 'Current__query_similarity_count__query_None__threshold_0.0'\n",
      " 'Audio__query_similarity_count__query_None__threshold_0.0'] did not have any finite values. Filling with zeros.\n",
      "  warnings.warn(\"The columns {} did not have any finite values. Filling with zeros.\".format(\n",
      "c:\\Users\\user\\Desktop\\Studium\\3_Semester\\Projekt_1\\wer\\src\\anoog\\io\\data_io.py:67: SettingWithCopyWarning: \n",
      "A value is trying to be set on a copy of a slice from a DataFrame.\n",
      "Try using .loc[row_indexer,col_indexer] = value instead\n",
      "\n",
      "See the caveats in the documentation: https://pandas.pydata.org/pandas-docs/stable/user_guide/indexing.html#returning-a-view-versus-a-copy\n",
      "  new_dataset['y'] = data[1]\n"
     ]
    },
    {
     "name": "stdout",
     "output_type": "stream",
     "text": [
      "Accuracy: 100.0\n"
     ]
    },
    {
     "name": "stderr",
     "output_type": "stream",
     "text": [
      "Feature Extraction: 100%|██████████| 30/30 [00:24<00:00,  1.20it/s]\n",
      "C:\\Anaconda3\\envs\\aki\\lib\\site-packages\\tsfresh\\utilities\\dataframe_functions.py:171: RuntimeWarning: The columns ['Voltage__query_similarity_count__query_None__threshold_0.0'\n",
      " 'Current__query_similarity_count__query_None__threshold_0.0'\n",
      " 'Audio__query_similarity_count__query_None__threshold_0.0'] did not have any finite values. Filling with zeros.\n",
      "  warnings.warn(\"The columns {} did not have any finite values. Filling with zeros.\".format(\n",
      "c:\\Users\\user\\Desktop\\Studium\\3_Semester\\Projekt_1\\wer\\src\\anoog\\io\\data_io.py:67: SettingWithCopyWarning: \n",
      "A value is trying to be set on a copy of a slice from a DataFrame.\n",
      "Try using .loc[row_indexer,col_indexer] = value instead\n",
      "\n",
      "See the caveats in the documentation: https://pandas.pydata.org/pandas-docs/stable/user_guide/indexing.html#returning-a-view-versus-a-copy\n",
      "  new_dataset['y'] = data[1]\n"
     ]
    },
    {
     "name": "stdout",
     "output_type": "stream",
     "text": [
      "Accuracy: 100.0\n"
     ]
    },
    {
     "name": "stderr",
     "output_type": "stream",
     "text": [
      "Feature Extraction: 100%|██████████| 30/30 [00:25<00:00,  1.18it/s]\n",
      "C:\\Anaconda3\\envs\\aki\\lib\\site-packages\\tsfresh\\utilities\\dataframe_functions.py:171: RuntimeWarning: The columns ['Voltage__query_similarity_count__query_None__threshold_0.0'\n",
      " 'Current__query_similarity_count__query_None__threshold_0.0'\n",
      " 'Audio__query_similarity_count__query_None__threshold_0.0'] did not have any finite values. Filling with zeros.\n",
      "  warnings.warn(\"The columns {} did not have any finite values. Filling with zeros.\".format(\n",
      "c:\\Users\\user\\Desktop\\Studium\\3_Semester\\Projekt_1\\wer\\src\\anoog\\io\\data_io.py:67: SettingWithCopyWarning: \n",
      "A value is trying to be set on a copy of a slice from a DataFrame.\n",
      "Try using .loc[row_indexer,col_indexer] = value instead\n",
      "\n",
      "See the caveats in the documentation: https://pandas.pydata.org/pandas-docs/stable/user_guide/indexing.html#returning-a-view-versus-a-copy\n",
      "  new_dataset['y'] = data[1]\n"
     ]
    },
    {
     "name": "stdout",
     "output_type": "stream",
     "text": [
      "Accuracy: 100.0\n"
     ]
    },
    {
     "name": "stderr",
     "output_type": "stream",
     "text": [
      "Feature Extraction: 100%|██████████| 30/30 [00:25<00:00,  1.18it/s]\n",
      "C:\\Anaconda3\\envs\\aki\\lib\\site-packages\\tsfresh\\utilities\\dataframe_functions.py:171: RuntimeWarning: The columns ['Current__query_similarity_count__query_None__threshold_0.0'\n",
      " 'Audio__query_similarity_count__query_None__threshold_0.0'\n",
      " 'Voltage__query_similarity_count__query_None__threshold_0.0'] did not have any finite values. Filling with zeros.\n",
      "  warnings.warn(\"The columns {} did not have any finite values. Filling with zeros.\".format(\n",
      "c:\\Users\\user\\Desktop\\Studium\\3_Semester\\Projekt_1\\wer\\src\\anoog\\io\\data_io.py:67: SettingWithCopyWarning: \n",
      "A value is trying to be set on a copy of a slice from a DataFrame.\n",
      "Try using .loc[row_indexer,col_indexer] = value instead\n",
      "\n",
      "See the caveats in the documentation: https://pandas.pydata.org/pandas-docs/stable/user_guide/indexing.html#returning-a-view-versus-a-copy\n",
      "  new_dataset['y'] = data[1]\n"
     ]
    },
    {
     "name": "stdout",
     "output_type": "stream",
     "text": [
      "Accuracy: 100.0\n"
     ]
    },
    {
     "name": "stderr",
     "output_type": "stream",
     "text": [
      "Feature Extraction: 100%|██████████| 30/30 [00:24<00:00,  1.23it/s]\n",
      "C:\\Anaconda3\\envs\\aki\\lib\\site-packages\\tsfresh\\utilities\\dataframe_functions.py:171: RuntimeWarning: The columns ['Current__query_similarity_count__query_None__threshold_0.0'\n",
      " 'Audio__query_similarity_count__query_None__threshold_0.0'\n",
      " 'Voltage__query_similarity_count__query_None__threshold_0.0'] did not have any finite values. Filling with zeros.\n",
      "  warnings.warn(\"The columns {} did not have any finite values. Filling with zeros.\".format(\n",
      "c:\\Users\\user\\Desktop\\Studium\\3_Semester\\Projekt_1\\wer\\src\\anoog\\io\\data_io.py:67: SettingWithCopyWarning: \n",
      "A value is trying to be set on a copy of a slice from a DataFrame.\n",
      "Try using .loc[row_indexer,col_indexer] = value instead\n",
      "\n",
      "See the caveats in the documentation: https://pandas.pydata.org/pandas-docs/stable/user_guide/indexing.html#returning-a-view-versus-a-copy\n",
      "  new_dataset['y'] = data[1]\n"
     ]
    },
    {
     "name": "stdout",
     "output_type": "stream",
     "text": [
      "Accuracy: 100.0\n"
     ]
    },
    {
     "name": "stderr",
     "output_type": "stream",
     "text": [
      "Feature Extraction: 100%|██████████| 30/30 [00:26<00:00,  1.15it/s]\n",
      "C:\\Anaconda3\\envs\\aki\\lib\\site-packages\\tsfresh\\utilities\\dataframe_functions.py:171: RuntimeWarning: The columns ['Current__query_similarity_count__query_None__threshold_0.0'\n",
      " 'Audio__query_similarity_count__query_None__threshold_0.0'\n",
      " 'Voltage__query_similarity_count__query_None__threshold_0.0'] did not have any finite values. Filling with zeros.\n",
      "  warnings.warn(\"The columns {} did not have any finite values. Filling with zeros.\".format(\n",
      "c:\\Users\\user\\Desktop\\Studium\\3_Semester\\Projekt_1\\wer\\src\\anoog\\io\\data_io.py:67: SettingWithCopyWarning: \n",
      "A value is trying to be set on a copy of a slice from a DataFrame.\n",
      "Try using .loc[row_indexer,col_indexer] = value instead\n",
      "\n",
      "See the caveats in the documentation: https://pandas.pydata.org/pandas-docs/stable/user_guide/indexing.html#returning-a-view-versus-a-copy\n",
      "  new_dataset['y'] = data[1]\n"
     ]
    },
    {
     "name": "stdout",
     "output_type": "stream",
     "text": [
      "Accuracy: 100.0\n"
     ]
    },
    {
     "name": "stderr",
     "output_type": "stream",
     "text": [
      "Feature Extraction: 100%|██████████| 30/30 [00:25<00:00,  1.16it/s]\n",
      "C:\\Anaconda3\\envs\\aki\\lib\\site-packages\\tsfresh\\utilities\\dataframe_functions.py:171: RuntimeWarning: The columns ['Voltage__query_similarity_count__query_None__threshold_0.0'\n",
      " 'Current__query_similarity_count__query_None__threshold_0.0'\n",
      " 'Audio__query_similarity_count__query_None__threshold_0.0'] did not have any finite values. Filling with zeros.\n",
      "  warnings.warn(\"The columns {} did not have any finite values. Filling with zeros.\".format(\n",
      "c:\\Users\\user\\Desktop\\Studium\\3_Semester\\Projekt_1\\wer\\src\\anoog\\io\\data_io.py:67: SettingWithCopyWarning: \n",
      "A value is trying to be set on a copy of a slice from a DataFrame.\n",
      "Try using .loc[row_indexer,col_indexer] = value instead\n",
      "\n",
      "See the caveats in the documentation: https://pandas.pydata.org/pandas-docs/stable/user_guide/indexing.html#returning-a-view-versus-a-copy\n",
      "  new_dataset['y'] = data[1]\n"
     ]
    },
    {
     "name": "stdout",
     "output_type": "stream",
     "text": [
      "Accuracy: 100.0\n"
     ]
    }
   ],
   "source": [
    "for i in range(1, 10):\n",
    "    train_df, test_df = anoog.io.load_data(\"../data/2021-11-09\", \n",
    "                                            ['tippolit', 'skadkade'],\n",
    "                                            extraction=anoog.io.extraction_mode.TSFRESH,\n",
    "                                            selection=anoog.io.selection_mode.NONE,\n",
    "                                            train_test_split=True,\n",
    "                                            test_size= i/10)\n",
    "\n",
    "    X_train, y_train = train_df.iloc[:, :-1], train_df.loc[:, 'y']\n",
    "    X_test, y_test = test_df.iloc[:, :-1], test_df.loc[:, 'y']\n",
    "\n",
    "    train_df = pd.read_csv(\"../data/tobia_vadim_2021_11_09_train.csv\")\n",
    "    test_df = pd.read_csv(\"../data/tobia_vadim_2021_11_09_test.csv\")\n",
    "\n",
    "    X_train, y_train = train_df.iloc[:, :-1], train_df.loc[:, 'y']\n",
    "    X_test, y_test = test_df.iloc[:, :-1], test_df.loc[:, 'y']\n",
    "\n",
    "    #Model training\n",
    "    model = anoog.model.train_random_forest(X_train, y_train)\n",
    "\n",
    "    #Model evaluation\n",
    "    acc, con = anoog.model.evaluate_model(model, X_test, y_test)\n",
    "    print(\"Accuracy:\", acc)\n",
    "    con\n",
    "    l2.append(i)\n",
    "    l2.append(acc)"
   ]
  },
  {
   "cell_type": "code",
   "execution_count": 30,
   "id": "8efe6a6e",
   "metadata": {},
   "outputs": [
    {
     "name": "stderr",
     "output_type": "stream",
     "text": [
      "Feature Extraction: 100%|██████████| 30/30 [00:22<00:00,  1.35it/s]\n",
      "C:\\Anaconda3\\envs\\aki\\lib\\site-packages\\tsfresh\\utilities\\dataframe_functions.py:171: RuntimeWarning: The columns ['Current__query_similarity_count__query_None__threshold_0.0'\n",
      " 'Audio__query_similarity_count__query_None__threshold_0.0'\n",
      " 'Voltage__query_similarity_count__query_None__threshold_0.0'] did not have any finite values. Filling with zeros.\n",
      "  warnings.warn(\"The columns {} did not have any finite values. Filling with zeros.\".format(\n",
      "c:\\Users\\user\\Desktop\\Studium\\3_Semester\\Projekt_1\\wer\\src\\anoog\\io\\data_io.py:67: SettingWithCopyWarning: \n",
      "A value is trying to be set on a copy of a slice from a DataFrame.\n",
      "Try using .loc[row_indexer,col_indexer] = value instead\n",
      "\n",
      "See the caveats in the documentation: https://pandas.pydata.org/pandas-docs/stable/user_guide/indexing.html#returning-a-view-versus-a-copy\n",
      "  new_dataset['y'] = data[1]\n"
     ]
    },
    {
     "name": "stdout",
     "output_type": "stream",
     "text": [
      "Accuracy: 100.0\n"
     ]
    },
    {
     "name": "stderr",
     "output_type": "stream",
     "text": [
      "Feature Extraction: 100%|██████████| 30/30 [00:22<00:00,  1.34it/s]\n",
      "C:\\Anaconda3\\envs\\aki\\lib\\site-packages\\tsfresh\\utilities\\dataframe_functions.py:171: RuntimeWarning: The columns ['Current__query_similarity_count__query_None__threshold_0.0'\n",
      " 'Audio__query_similarity_count__query_None__threshold_0.0'\n",
      " 'Voltage__query_similarity_count__query_None__threshold_0.0'] did not have any finite values. Filling with zeros.\n",
      "  warnings.warn(\"The columns {} did not have any finite values. Filling with zeros.\".format(\n",
      "c:\\Users\\user\\Desktop\\Studium\\3_Semester\\Projekt_1\\wer\\src\\anoog\\io\\data_io.py:67: SettingWithCopyWarning: \n",
      "A value is trying to be set on a copy of a slice from a DataFrame.\n",
      "Try using .loc[row_indexer,col_indexer] = value instead\n",
      "\n",
      "See the caveats in the documentation: https://pandas.pydata.org/pandas-docs/stable/user_guide/indexing.html#returning-a-view-versus-a-copy\n",
      "  new_dataset['y'] = data[1]\n"
     ]
    },
    {
     "name": "stdout",
     "output_type": "stream",
     "text": [
      "Accuracy: 100.0\n"
     ]
    },
    {
     "name": "stderr",
     "output_type": "stream",
     "text": [
      "Feature Extraction: 100%|██████████| 30/30 [00:21<00:00,  1.42it/s]\n",
      "C:\\Anaconda3\\envs\\aki\\lib\\site-packages\\tsfresh\\utilities\\dataframe_functions.py:171: RuntimeWarning: The columns ['Voltage__query_similarity_count__query_None__threshold_0.0'\n",
      " 'Current__query_similarity_count__query_None__threshold_0.0'\n",
      " 'Audio__query_similarity_count__query_None__threshold_0.0'] did not have any finite values. Filling with zeros.\n",
      "  warnings.warn(\"The columns {} did not have any finite values. Filling with zeros.\".format(\n",
      "c:\\Users\\user\\Desktop\\Studium\\3_Semester\\Projekt_1\\wer\\src\\anoog\\io\\data_io.py:67: SettingWithCopyWarning: \n",
      "A value is trying to be set on a copy of a slice from a DataFrame.\n",
      "Try using .loc[row_indexer,col_indexer] = value instead\n",
      "\n",
      "See the caveats in the documentation: https://pandas.pydata.org/pandas-docs/stable/user_guide/indexing.html#returning-a-view-versus-a-copy\n",
      "  new_dataset['y'] = data[1]\n"
     ]
    },
    {
     "name": "stdout",
     "output_type": "stream",
     "text": [
      "Accuracy: 100.0\n"
     ]
    },
    {
     "name": "stderr",
     "output_type": "stream",
     "text": [
      "Feature Extraction: 100%|██████████| 30/30 [00:21<00:00,  1.39it/s]\n",
      "C:\\Anaconda3\\envs\\aki\\lib\\site-packages\\tsfresh\\utilities\\dataframe_functions.py:171: RuntimeWarning: The columns ['Voltage__query_similarity_count__query_None__threshold_0.0'\n",
      " 'Current__query_similarity_count__query_None__threshold_0.0'\n",
      " 'Audio__query_similarity_count__query_None__threshold_0.0'] did not have any finite values. Filling with zeros.\n",
      "  warnings.warn(\"The columns {} did not have any finite values. Filling with zeros.\".format(\n",
      "c:\\Users\\user\\Desktop\\Studium\\3_Semester\\Projekt_1\\wer\\src\\anoog\\io\\data_io.py:67: SettingWithCopyWarning: \n",
      "A value is trying to be set on a copy of a slice from a DataFrame.\n",
      "Try using .loc[row_indexer,col_indexer] = value instead\n",
      "\n",
      "See the caveats in the documentation: https://pandas.pydata.org/pandas-docs/stable/user_guide/indexing.html#returning-a-view-versus-a-copy\n",
      "  new_dataset['y'] = data[1]\n"
     ]
    },
    {
     "name": "stdout",
     "output_type": "stream",
     "text": [
      "Accuracy: 100.0\n"
     ]
    },
    {
     "name": "stderr",
     "output_type": "stream",
     "text": [
      "Feature Extraction: 100%|██████████| 30/30 [00:21<00:00,  1.41it/s]\n",
      "C:\\Anaconda3\\envs\\aki\\lib\\site-packages\\tsfresh\\utilities\\dataframe_functions.py:171: RuntimeWarning: The columns ['Current__query_similarity_count__query_None__threshold_0.0'\n",
      " 'Audio__query_similarity_count__query_None__threshold_0.0'\n",
      " 'Voltage__query_similarity_count__query_None__threshold_0.0'] did not have any finite values. Filling with zeros.\n",
      "  warnings.warn(\"The columns {} did not have any finite values. Filling with zeros.\".format(\n",
      "c:\\Users\\user\\Desktop\\Studium\\3_Semester\\Projekt_1\\wer\\src\\anoog\\io\\data_io.py:67: SettingWithCopyWarning: \n",
      "A value is trying to be set on a copy of a slice from a DataFrame.\n",
      "Try using .loc[row_indexer,col_indexer] = value instead\n",
      "\n",
      "See the caveats in the documentation: https://pandas.pydata.org/pandas-docs/stable/user_guide/indexing.html#returning-a-view-versus-a-copy\n",
      "  new_dataset['y'] = data[1]\n"
     ]
    },
    {
     "name": "stdout",
     "output_type": "stream",
     "text": [
      "Accuracy: 100.0\n"
     ]
    },
    {
     "name": "stderr",
     "output_type": "stream",
     "text": [
      "Feature Extraction: 100%|██████████| 30/30 [00:22<00:00,  1.35it/s]\n",
      "C:\\Anaconda3\\envs\\aki\\lib\\site-packages\\tsfresh\\utilities\\dataframe_functions.py:171: RuntimeWarning: The columns ['Voltage__query_similarity_count__query_None__threshold_0.0'\n",
      " 'Current__query_similarity_count__query_None__threshold_0.0'\n",
      " 'Audio__query_similarity_count__query_None__threshold_0.0'] did not have any finite values. Filling with zeros.\n",
      "  warnings.warn(\"The columns {} did not have any finite values. Filling with zeros.\".format(\n",
      "c:\\Users\\user\\Desktop\\Studium\\3_Semester\\Projekt_1\\wer\\src\\anoog\\io\\data_io.py:67: SettingWithCopyWarning: \n",
      "A value is trying to be set on a copy of a slice from a DataFrame.\n",
      "Try using .loc[row_indexer,col_indexer] = value instead\n",
      "\n",
      "See the caveats in the documentation: https://pandas.pydata.org/pandas-docs/stable/user_guide/indexing.html#returning-a-view-versus-a-copy\n",
      "  new_dataset['y'] = data[1]\n"
     ]
    },
    {
     "name": "stdout",
     "output_type": "stream",
     "text": [
      "Accuracy: 100.0\n"
     ]
    },
    {
     "name": "stderr",
     "output_type": "stream",
     "text": [
      "Feature Extraction: 100%|██████████| 30/30 [00:21<00:00,  1.39it/s]\n",
      "C:\\Anaconda3\\envs\\aki\\lib\\site-packages\\tsfresh\\utilities\\dataframe_functions.py:171: RuntimeWarning: The columns ['Current__query_similarity_count__query_None__threshold_0.0'\n",
      " 'Audio__query_similarity_count__query_None__threshold_0.0'\n",
      " 'Voltage__query_similarity_count__query_None__threshold_0.0'] did not have any finite values. Filling with zeros.\n",
      "  warnings.warn(\"The columns {} did not have any finite values. Filling with zeros.\".format(\n",
      "c:\\Users\\user\\Desktop\\Studium\\3_Semester\\Projekt_1\\wer\\src\\anoog\\io\\data_io.py:67: SettingWithCopyWarning: \n",
      "A value is trying to be set on a copy of a slice from a DataFrame.\n",
      "Try using .loc[row_indexer,col_indexer] = value instead\n",
      "\n",
      "See the caveats in the documentation: https://pandas.pydata.org/pandas-docs/stable/user_guide/indexing.html#returning-a-view-versus-a-copy\n",
      "  new_dataset['y'] = data[1]\n"
     ]
    },
    {
     "name": "stdout",
     "output_type": "stream",
     "text": [
      "Accuracy: 100.0\n"
     ]
    },
    {
     "name": "stderr",
     "output_type": "stream",
     "text": [
      "Feature Extraction: 100%|██████████| 30/30 [00:20<00:00,  1.48it/s]\n",
      "C:\\Anaconda3\\envs\\aki\\lib\\site-packages\\tsfresh\\utilities\\dataframe_functions.py:171: RuntimeWarning: The columns ['Current__query_similarity_count__query_None__threshold_0.0'\n",
      " 'Audio__query_similarity_count__query_None__threshold_0.0'\n",
      " 'Voltage__query_similarity_count__query_None__threshold_0.0'] did not have any finite values. Filling with zeros.\n",
      "  warnings.warn(\"The columns {} did not have any finite values. Filling with zeros.\".format(\n",
      "c:\\Users\\user\\Desktop\\Studium\\3_Semester\\Projekt_1\\wer\\src\\anoog\\io\\data_io.py:67: SettingWithCopyWarning: \n",
      "A value is trying to be set on a copy of a slice from a DataFrame.\n",
      "Try using .loc[row_indexer,col_indexer] = value instead\n",
      "\n",
      "See the caveats in the documentation: https://pandas.pydata.org/pandas-docs/stable/user_guide/indexing.html#returning-a-view-versus-a-copy\n",
      "  new_dataset['y'] = data[1]\n"
     ]
    },
    {
     "name": "stdout",
     "output_type": "stream",
     "text": [
      "Accuracy: 100.0\n"
     ]
    },
    {
     "name": "stderr",
     "output_type": "stream",
     "text": [
      "Feature Extraction: 100%|██████████| 30/30 [00:21<00:00,  1.38it/s]\n",
      "C:\\Anaconda3\\envs\\aki\\lib\\site-packages\\tsfresh\\utilities\\dataframe_functions.py:171: RuntimeWarning: The columns ['Current__query_similarity_count__query_None__threshold_0.0'\n",
      " 'Audio__query_similarity_count__query_None__threshold_0.0'\n",
      " 'Voltage__query_similarity_count__query_None__threshold_0.0'] did not have any finite values. Filling with zeros.\n",
      "  warnings.warn(\"The columns {} did not have any finite values. Filling with zeros.\".format(\n",
      "c:\\Users\\user\\Desktop\\Studium\\3_Semester\\Projekt_1\\wer\\src\\anoog\\io\\data_io.py:67: SettingWithCopyWarning: \n",
      "A value is trying to be set on a copy of a slice from a DataFrame.\n",
      "Try using .loc[row_indexer,col_indexer] = value instead\n",
      "\n",
      "See the caveats in the documentation: https://pandas.pydata.org/pandas-docs/stable/user_guide/indexing.html#returning-a-view-versus-a-copy\n",
      "  new_dataset['y'] = data[1]\n"
     ]
    },
    {
     "name": "stdout",
     "output_type": "stream",
     "text": [
      "Accuracy: 100.0\n"
     ]
    }
   ],
   "source": [
    "for i in range(1, 10):\n",
    "    train_df, test_df = anoog.io.load_data(\"../data/2021-11-09\", \n",
    "                                            ['vkorzev', 'skadkade'],\n",
    "                                            extraction=anoog.io.extraction_mode.TSFRESH,\n",
    "                                            selection=anoog.io.selection_mode.NONE,\n",
    "                                            train_test_split=True,\n",
    "                                            test_size= i/10)\n",
    "\n",
    "    X_train, y_train = train_df.iloc[:, :-1], train_df.loc[:, 'y']\n",
    "    X_test, y_test = test_df.iloc[:, :-1], test_df.loc[:, 'y']\n",
    "\n",
    "    train_df = pd.read_csv(\"../data/tobia_vadim_2021_11_09_train.csv\")\n",
    "    test_df = pd.read_csv(\"../data/tobia_vadim_2021_11_09_test.csv\")\n",
    "\n",
    "    X_train, y_train = train_df.iloc[:, :-1], train_df.loc[:, 'y']\n",
    "    X_test, y_test = test_df.iloc[:, :-1], test_df.loc[:, 'y']\n",
    "\n",
    "    #Model training\n",
    "    model = anoog.model.train_random_forest(X_train, y_train)\n",
    "\n",
    "    #Model evaluation\n",
    "    acc, con = anoog.model.evaluate_model(model, X_test, y_test)\n",
    "    print(\"Accuracy:\", acc)\n",
    "    con\n",
    "    l3.append(i)\n",
    "    l3.append(acc)"
   ]
  },
  {
   "cell_type": "code",
   "execution_count": null,
   "id": "289fc191",
   "metadata": {},
   "outputs": [],
   "source": [
    "#List -> Dict -> pd.Dataframe Hinweis: Funktion daraud machen um dich die redundanten schleifen zu sparen"
   ]
  },
  {
   "cell_type": "code",
   "execution_count": 31,
   "id": "bd45c407",
   "metadata": {},
   "outputs": [
    {
     "name": "stdout",
     "output_type": "stream",
     "text": [
      "[1, 100.0, 2, 100.0, 3, 100.0, 4, 100.0, 5, 100.0, 6, 100.0, 7, 100.0, 8, 100.0, 9, 100.0]\n",
      "[1, 100.0, 2, 100.0, 3, 100.0, 4, 100.0, 5, 100.0, 6, 100.0, 7, 100.0, 8, 100.0, 9, 100.0]\n",
      "[1, 100.0, 2, 100.0, 3, 100.0, 4, 100.0, 5, 100.0, 6, 100.0, 7, 100.0, 8, 100.0, 9, 100.0]\n"
     ]
    }
   ],
   "source": [
    "print(l1)\n",
    "print(l2)\n",
    "print(l3)"
   ]
  },
  {
   "cell_type": "code",
   "execution_count": null,
   "id": "bb6b2412",
   "metadata": {},
   "outputs": [],
   "source": []
  }
 ],
 "metadata": {
  "kernelspec": {
   "display_name": "Python 3",
   "language": "python",
   "name": "python3"
  },
  "language_info": {
   "codemirror_mode": {
    "name": "ipython",
    "version": 3
   },
   "file_extension": ".py",
   "mimetype": "text/x-python",
   "name": "python",
   "nbconvert_exporter": "python",
   "pygments_lexer": "ipython3",
   "version": "3.8.8"
  }
 },
 "nbformat": 4,
 "nbformat_minor": 5
}
