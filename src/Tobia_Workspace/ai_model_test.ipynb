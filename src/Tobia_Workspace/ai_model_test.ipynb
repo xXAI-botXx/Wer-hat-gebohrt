{
 "cells": [
  {
   "cell_type": "markdown",
   "metadata": {},
   "source": [
    "---\n",
    "## AI-Model Testing\n",
    "by Tobia Ippolito\n",
    "### Contents:\n",
    "- [Imports](#0.0)\n",
    "- [10-fold-Crossvalidation]()\n",
    "- [SVC]()\n",
    "- [KNN]()\n",
    "- [RandomForest]()\n",
    "- [VotingClassifier]()\n",
    "<br>\n",
    "<br>\n",
    "---\n",
    "### <a name='0.0'>Imports</a>"
   ]
  },
  {
   "cell_type": "code",
   "execution_count": 1,
   "metadata": {},
   "outputs": [],
   "source": [
    "%load_ext autoreload\n",
    "%autoreload 2\n",
    "\n",
    "import sys\n",
    "sys.path.append('../../src')"
   ]
  },
  {
   "cell_type": "code",
   "execution_count": 2,
   "metadata": {},
   "outputs": [],
   "source": [
    "import numpy as np\n",
    "import pandas as pd\n",
    "import matplotlib.pyplot as plt\n",
    "\n",
    "from sklearn.preprocessing import LabelEncoder\n",
    "from sklearn.ensemble import RandomForestClassifier\n",
    "from sklearn.metrics import accuracy_score\n",
    "from sklearn.metrics import confusion_matrix\n",
    "from sklearn.preprocessing import MinMaxScaler\n",
    "from sklearn.model_selection import GridSearchCV\n",
    "from sklearn.svm import SVC\n",
    "from sklearn.neighbors import KNeighborsClassifier as KNN\n",
    "from sklearn.ensemble import RandomForestClassifier\n",
    "from sklearn.ensemble import VotingClassifier\n",
    "\n",
    "import anoog\n",
    "from anoog.model import MODELS\n",
    "from anoog.model import evaluate_model_with_cross_validation\n",
    "from anoog.model import evaluate_model\n",
    "from anoog.model import get_most_important_features"
   ]
  },
  {
   "cell_type": "markdown",
   "metadata": {},
   "source": [
    "---\n",
    "### <a name='1.0'>10-fold-Crossvalidation</a>"
   ]
  },
  {
   "cell_type": "code",
   "execution_count": 3,
   "metadata": {},
   "outputs": [
    {
     "data": {
      "text/html": [
       "<div>\n",
       "<style scoped>\n",
       "    .dataframe tbody tr th:only-of-type {\n",
       "        vertical-align: middle;\n",
       "    }\n",
       "\n",
       "    .dataframe tbody tr th {\n",
       "        vertical-align: top;\n",
       "    }\n",
       "\n",
       "    .dataframe thead th {\n",
       "        text-align: right;\n",
       "    }\n",
       "</style>\n",
       "<table border=\"1\" class=\"dataframe\">\n",
       "  <thead>\n",
       "    <tr style=\"text-align: right;\">\n",
       "      <th></th>\n",
       "      <th>audio_min</th>\n",
       "      <th>audio_max</th>\n",
       "      <th>audio_mean</th>\n",
       "      <th>audio_median</th>\n",
       "      <th>audio_std</th>\n",
       "      <th>current_min</th>\n",
       "      <th>current_max</th>\n",
       "      <th>current_mean</th>\n",
       "      <th>current_median</th>\n",
       "      <th>current_std</th>\n",
       "      <th>...</th>\n",
       "      <th>voltage_mean</th>\n",
       "      <th>voltage_median</th>\n",
       "      <th>voltage_std</th>\n",
       "      <th>Time</th>\n",
       "      <th>Resistance</th>\n",
       "      <th>Power</th>\n",
       "      <th>Work</th>\n",
       "      <th>mAh</th>\n",
       "      <th>Wh</th>\n",
       "      <th>y</th>\n",
       "    </tr>\n",
       "  </thead>\n",
       "  <tbody>\n",
       "    <tr>\n",
       "      <th>45</th>\n",
       "      <td>0.499970</td>\n",
       "      <td>0.524153</td>\n",
       "      <td>0.546429</td>\n",
       "      <td>0.486107</td>\n",
       "      <td>0.498624</td>\n",
       "      <td>0.981361</td>\n",
       "      <td>0.794324</td>\n",
       "      <td>0.099471</td>\n",
       "      <td>0.051765</td>\n",
       "      <td>0.403033</td>\n",
       "      <td>...</td>\n",
       "      <td>0.262847</td>\n",
       "      <td>0.322230</td>\n",
       "      <td>0.370096</td>\n",
       "      <td>0.629174</td>\n",
       "      <td>0.098147</td>\n",
       "      <td>0.100821</td>\n",
       "      <td>0.280750</td>\n",
       "      <td>0.099471</td>\n",
       "      <td>0.100821</td>\n",
       "      <td>1.0</td>\n",
       "    </tr>\n",
       "    <tr>\n",
       "      <th>46</th>\n",
       "      <td>0.501927</td>\n",
       "      <td>0.519836</td>\n",
       "      <td>0.631510</td>\n",
       "      <td>0.485915</td>\n",
       "      <td>0.462201</td>\n",
       "      <td>0.950122</td>\n",
       "      <td>0.780712</td>\n",
       "      <td>0.106452</td>\n",
       "      <td>0.104558</td>\n",
       "      <td>0.384292</td>\n",
       "      <td>...</td>\n",
       "      <td>0.254285</td>\n",
       "      <td>0.310874</td>\n",
       "      <td>0.346838</td>\n",
       "      <td>0.521968</td>\n",
       "      <td>0.105264</td>\n",
       "      <td>0.107660</td>\n",
       "      <td>0.118180</td>\n",
       "      <td>0.106452</td>\n",
       "      <td>0.107660</td>\n",
       "      <td>1.0</td>\n",
       "    </tr>\n",
       "    <tr>\n",
       "      <th>47</th>\n",
       "      <td>0.703289</td>\n",
       "      <td>0.393621</td>\n",
       "      <td>0.512861</td>\n",
       "      <td>0.487407</td>\n",
       "      <td>0.263667</td>\n",
       "      <td>0.420836</td>\n",
       "      <td>0.000000</td>\n",
       "      <td>0.000000</td>\n",
       "      <td>0.031463</td>\n",
       "      <td>0.000000</td>\n",
       "      <td>...</td>\n",
       "      <td>0.274758</td>\n",
       "      <td>0.294388</td>\n",
       "      <td>0.000000</td>\n",
       "      <td>0.760984</td>\n",
       "      <td>0.000000</td>\n",
       "      <td>0.000000</td>\n",
       "      <td>0.166171</td>\n",
       "      <td>0.000000</td>\n",
       "      <td>0.000000</td>\n",
       "      <td>1.0</td>\n",
       "    </tr>\n",
       "    <tr>\n",
       "      <th>48</th>\n",
       "      <td>0.502029</td>\n",
       "      <td>0.513907</td>\n",
       "      <td>0.577089</td>\n",
       "      <td>0.486803</td>\n",
       "      <td>0.431190</td>\n",
       "      <td>0.420836</td>\n",
       "      <td>0.876737</td>\n",
       "      <td>0.173159</td>\n",
       "      <td>0.130077</td>\n",
       "      <td>0.436350</td>\n",
       "      <td>...</td>\n",
       "      <td>0.196933</td>\n",
       "      <td>0.256548</td>\n",
       "      <td>0.390586</td>\n",
       "      <td>0.520211</td>\n",
       "      <td>0.172791</td>\n",
       "      <td>0.173515</td>\n",
       "      <td>0.288815</td>\n",
       "      <td>0.173159</td>\n",
       "      <td>0.173515</td>\n",
       "      <td>1.0</td>\n",
       "    </tr>\n",
       "    <tr>\n",
       "      <th>49</th>\n",
       "      <td>0.792630</td>\n",
       "      <td>0.469935</td>\n",
       "      <td>0.792698</td>\n",
       "      <td>0.454811</td>\n",
       "      <td>0.339974</td>\n",
       "      <td>0.420836</td>\n",
       "      <td>0.862295</td>\n",
       "      <td>0.216525</td>\n",
       "      <td>0.194656</td>\n",
       "      <td>0.407967</td>\n",
       "      <td>...</td>\n",
       "      <td>0.157877</td>\n",
       "      <td>0.198933</td>\n",
       "      <td>0.368864</td>\n",
       "      <td>0.534271</td>\n",
       "      <td>0.216968</td>\n",
       "      <td>0.216049</td>\n",
       "      <td>0.429380</td>\n",
       "      <td>0.216525</td>\n",
       "      <td>0.216049</td>\n",
       "      <td>1.0</td>\n",
       "    </tr>\n",
       "  </tbody>\n",
       "</table>\n",
       "<p>5 rows × 22 columns</p>\n",
       "</div>"
      ],
      "text/plain": [
       "    audio_min  audio_max  audio_mean  audio_median  audio_std  current_min  \\\n",
       "45   0.499970   0.524153    0.546429      0.486107   0.498624     0.981361   \n",
       "46   0.501927   0.519836    0.631510      0.485915   0.462201     0.950122   \n",
       "47   0.703289   0.393621    0.512861      0.487407   0.263667     0.420836   \n",
       "48   0.502029   0.513907    0.577089      0.486803   0.431190     0.420836   \n",
       "49   0.792630   0.469935    0.792698      0.454811   0.339974     0.420836   \n",
       "\n",
       "    current_max  current_mean  current_median  current_std  ...  voltage_mean  \\\n",
       "45     0.794324      0.099471        0.051765     0.403033  ...      0.262847   \n",
       "46     0.780712      0.106452        0.104558     0.384292  ...      0.254285   \n",
       "47     0.000000      0.000000        0.031463     0.000000  ...      0.274758   \n",
       "48     0.876737      0.173159        0.130077     0.436350  ...      0.196933   \n",
       "49     0.862295      0.216525        0.194656     0.407967  ...      0.157877   \n",
       "\n",
       "    voltage_median  voltage_std      Time  Resistance     Power      Work  \\\n",
       "45        0.322230     0.370096  0.629174    0.098147  0.100821  0.280750   \n",
       "46        0.310874     0.346838  0.521968    0.105264  0.107660  0.118180   \n",
       "47        0.294388     0.000000  0.760984    0.000000  0.000000  0.166171   \n",
       "48        0.256548     0.390586  0.520211    0.172791  0.173515  0.288815   \n",
       "49        0.198933     0.368864  0.534271    0.216968  0.216049  0.429380   \n",
       "\n",
       "         mAh        Wh    y  \n",
       "45  0.099471  0.100821  1.0  \n",
       "46  0.106452  0.107660  1.0  \n",
       "47  0.000000  0.000000  1.0  \n",
       "48  0.173159  0.173515  1.0  \n",
       "49  0.216525  0.216049  1.0  \n",
       "\n",
       "[5 rows x 22 columns]"
      ]
     },
     "execution_count": 3,
     "metadata": {},
     "output_type": "execute_result"
    }
   ],
   "source": [
    "data = df = anoog.io.load_data(\"../../data/2021-11-09\",\n",
    "                        ['tippolit', 'vkorzev'],\n",
    "                        extraction=anoog.io.extraction_mode.MANUEL,\n",
    "                        selection=anoog.io.selection_mode.NONE,\n",
    "                        train_test_split=False,\n",
    "                        normalize=True)\n",
    "data.tail()"
   ]
  },
  {
   "cell_type": "code",
   "execution_count": 4,
   "metadata": {},
   "outputs": [
    {
     "data": {
      "text/html": [
       "<div>\n",
       "<style scoped>\n",
       "    .dataframe tbody tr th:only-of-type {\n",
       "        vertical-align: middle;\n",
       "    }\n",
       "\n",
       "    .dataframe tbody tr th {\n",
       "        vertical-align: top;\n",
       "    }\n",
       "\n",
       "    .dataframe thead th {\n",
       "        text-align: right;\n",
       "    }\n",
       "</style>\n",
       "<table border=\"1\" class=\"dataframe\">\n",
       "  <thead>\n",
       "    <tr style=\"text-align: right;\">\n",
       "      <th></th>\n",
       "      <th>audio_min</th>\n",
       "      <th>audio_max</th>\n",
       "      <th>audio_mean</th>\n",
       "      <th>audio_median</th>\n",
       "      <th>audio_std</th>\n",
       "      <th>current_min</th>\n",
       "      <th>current_max</th>\n",
       "      <th>current_mean</th>\n",
       "      <th>current_median</th>\n",
       "      <th>current_std</th>\n",
       "      <th>...</th>\n",
       "      <th>voltage_max</th>\n",
       "      <th>voltage_mean</th>\n",
       "      <th>voltage_median</th>\n",
       "      <th>voltage_std</th>\n",
       "      <th>Time</th>\n",
       "      <th>Resistance</th>\n",
       "      <th>Power</th>\n",
       "      <th>Work</th>\n",
       "      <th>mAh</th>\n",
       "      <th>Wh</th>\n",
       "    </tr>\n",
       "  </thead>\n",
       "  <tbody>\n",
       "    <tr>\n",
       "      <th>0</th>\n",
       "      <td>0.489226</td>\n",
       "      <td>0.539696</td>\n",
       "      <td>0.620803</td>\n",
       "      <td>0.488007</td>\n",
       "      <td>0.589802</td>\n",
       "      <td>0.841672</td>\n",
       "      <td>0.903051</td>\n",
       "      <td>0.081916</td>\n",
       "      <td>0.047550</td>\n",
       "      <td>0.342350</td>\n",
       "      <td>...</td>\n",
       "      <td>1.000000</td>\n",
       "      <td>1.000000</td>\n",
       "      <td>1.000000</td>\n",
       "      <td>0.387944</td>\n",
       "      <td>0.984183</td>\n",
       "      <td>0.061104</td>\n",
       "      <td>0.104178</td>\n",
       "      <td>0.892324</td>\n",
       "      <td>0.081916</td>\n",
       "      <td>0.104178</td>\n",
       "    </tr>\n",
       "    <tr>\n",
       "      <th>1</th>\n",
       "      <td>0.948940</td>\n",
       "      <td>0.078485</td>\n",
       "      <td>0.737151</td>\n",
       "      <td>0.497329</td>\n",
       "      <td>0.000000</td>\n",
       "      <td>0.912990</td>\n",
       "      <td>0.870149</td>\n",
       "      <td>0.478445</td>\n",
       "      <td>0.668963</td>\n",
       "      <td>0.707884</td>\n",
       "      <td>...</td>\n",
       "      <td>0.894985</td>\n",
       "      <td>0.701696</td>\n",
       "      <td>0.586562</td>\n",
       "      <td>0.730675</td>\n",
       "      <td>0.356766</td>\n",
       "      <td>0.450447</td>\n",
       "      <td>0.507766</td>\n",
       "      <td>0.700566</td>\n",
       "      <td>0.478445</td>\n",
       "      <td>0.507766</td>\n",
       "    </tr>\n",
       "    <tr>\n",
       "      <th>2</th>\n",
       "      <td>0.554606</td>\n",
       "      <td>0.519374</td>\n",
       "      <td>0.720443</td>\n",
       "      <td>0.496879</td>\n",
       "      <td>0.187601</td>\n",
       "      <td>0.841672</td>\n",
       "      <td>0.971043</td>\n",
       "      <td>0.673538</td>\n",
       "      <td>0.751618</td>\n",
       "      <td>0.726680</td>\n",
       "      <td>...</td>\n",
       "      <td>0.865587</td>\n",
       "      <td>0.585654</td>\n",
       "      <td>0.542533</td>\n",
       "      <td>0.742611</td>\n",
       "      <td>0.191564</td>\n",
       "      <td>0.644603</td>\n",
       "      <td>0.703628</td>\n",
       "      <td>0.554519</td>\n",
       "      <td>0.673538</td>\n",
       "      <td>0.703628</td>\n",
       "    </tr>\n",
       "    <tr>\n",
       "      <th>3</th>\n",
       "      <td>0.500641</td>\n",
       "      <td>0.526755</td>\n",
       "      <td>0.598239</td>\n",
       "      <td>0.488965</td>\n",
       "      <td>0.406655</td>\n",
       "      <td>0.841672</td>\n",
       "      <td>0.902161</td>\n",
       "      <td>0.093400</td>\n",
       "      <td>0.079668</td>\n",
       "      <td>0.351717</td>\n",
       "      <td>...</td>\n",
       "      <td>0.851916</td>\n",
       "      <td>0.882752</td>\n",
       "      <td>0.883772</td>\n",
       "      <td>0.364501</td>\n",
       "      <td>0.736380</td>\n",
       "      <td>0.075100</td>\n",
       "      <td>0.112851</td>\n",
       "      <td>0.500696</td>\n",
       "      <td>0.093400</td>\n",
       "      <td>0.112851</td>\n",
       "    </tr>\n",
       "    <tr>\n",
       "      <th>4</th>\n",
       "      <td>0.000000</td>\n",
       "      <td>0.532166</td>\n",
       "      <td>0.317739</td>\n",
       "      <td>0.452649</td>\n",
       "      <td>0.614912</td>\n",
       "      <td>0.420836</td>\n",
       "      <td>0.807761</td>\n",
       "      <td>0.452521</td>\n",
       "      <td>0.502235</td>\n",
       "      <td>0.487880</td>\n",
       "      <td>...</td>\n",
       "      <td>0.836230</td>\n",
       "      <td>0.677153</td>\n",
       "      <td>0.600962</td>\n",
       "      <td>0.506825</td>\n",
       "      <td>0.353251</td>\n",
       "      <td>0.426599</td>\n",
       "      <td>0.479638</td>\n",
       "      <td>0.630015</td>\n",
       "      <td>0.452521</td>\n",
       "      <td>0.479638</td>\n",
       "    </tr>\n",
       "  </tbody>\n",
       "</table>\n",
       "<p>5 rows × 21 columns</p>\n",
       "</div>"
      ],
      "text/plain": [
       "   audio_min  audio_max  audio_mean  audio_median  audio_std  current_min  \\\n",
       "0   0.489226   0.539696    0.620803      0.488007   0.589802     0.841672   \n",
       "1   0.948940   0.078485    0.737151      0.497329   0.000000     0.912990   \n",
       "2   0.554606   0.519374    0.720443      0.496879   0.187601     0.841672   \n",
       "3   0.500641   0.526755    0.598239      0.488965   0.406655     0.841672   \n",
       "4   0.000000   0.532166    0.317739      0.452649   0.614912     0.420836   \n",
       "\n",
       "   current_max  current_mean  current_median  current_std  ...  voltage_max  \\\n",
       "0     0.903051      0.081916        0.047550     0.342350  ...     1.000000   \n",
       "1     0.870149      0.478445        0.668963     0.707884  ...     0.894985   \n",
       "2     0.971043      0.673538        0.751618     0.726680  ...     0.865587   \n",
       "3     0.902161      0.093400        0.079668     0.351717  ...     0.851916   \n",
       "4     0.807761      0.452521        0.502235     0.487880  ...     0.836230   \n",
       "\n",
       "   voltage_mean  voltage_median  voltage_std      Time  Resistance     Power  \\\n",
       "0      1.000000        1.000000     0.387944  0.984183    0.061104  0.104178   \n",
       "1      0.701696        0.586562     0.730675  0.356766    0.450447  0.507766   \n",
       "2      0.585654        0.542533     0.742611  0.191564    0.644603  0.703628   \n",
       "3      0.882752        0.883772     0.364501  0.736380    0.075100  0.112851   \n",
       "4      0.677153        0.600962     0.506825  0.353251    0.426599  0.479638   \n",
       "\n",
       "       Work       mAh        Wh  \n",
       "0  0.892324  0.081916  0.104178  \n",
       "1  0.700566  0.478445  0.507766  \n",
       "2  0.554519  0.673538  0.703628  \n",
       "3  0.500696  0.093400  0.112851  \n",
       "4  0.630015  0.452521  0.479638  \n",
       "\n",
       "[5 rows x 21 columns]"
      ]
     },
     "execution_count": 4,
     "metadata": {},
     "output_type": "execute_result"
    }
   ],
   "source": [
    "X,y = anoog.io.X_y_split(data)\n",
    "X.head()"
   ]
  },
  {
   "cell_type": "code",
   "execution_count": 5,
   "metadata": {},
   "outputs": [
    {
     "data": {
      "text/plain": [
       "array([0.7, 0.8, 0.9, 1. , 0.6])"
      ]
     },
     "execution_count": 5,
     "metadata": {},
     "output_type": "execute_result"
    }
   ],
   "source": [
    "evaluate_model_with_cross_validation(X, y, model=MODELS.RANDOM_FOREST)"
   ]
  },
  {
   "cell_type": "code",
   "execution_count": 6,
   "metadata": {},
   "outputs": [
    {
     "data": {
      "text/plain": [
       "array([0.7, 0.8, 0.9, 1. , 0.8])"
      ]
     },
     "execution_count": 6,
     "metadata": {},
     "output_type": "execute_result"
    }
   ],
   "source": [
    "evaluate_model_with_cross_validation(X, y, model=RandomForestClassifier())"
   ]
  },
  {
   "cell_type": "code",
   "execution_count": 7,
   "metadata": {},
   "outputs": [
    {
     "data": {
      "text/plain": [
       "array([1. , 0.8, 0.9, 1. , 0.8])"
      ]
     },
     "execution_count": 7,
     "metadata": {},
     "output_type": "execute_result"
    }
   ],
   "source": [
    "evaluate_model_with_cross_validation(X, y, model=MODELS.SVM)"
   ]
  },
  {
   "cell_type": "code",
   "execution_count": 8,
   "metadata": {},
   "outputs": [
    {
     "data": {
      "text/plain": [
       "array([0.7, 0.6, 0.5, 0.9, 0.8])"
      ]
     },
     "execution_count": 8,
     "metadata": {},
     "output_type": "execute_result"
    }
   ],
   "source": [
    "evaluate_model_with_cross_validation(X, y, model=MODELS.KNN)"
   ]
  },
  {
   "cell_type": "code",
   "execution_count": 9,
   "metadata": {},
   "outputs": [
    {
     "data": {
      "text/plain": [
       "array([0.8, 0.8, 0.8, 1. , 0.8])"
      ]
     },
     "execution_count": 9,
     "metadata": {},
     "output_type": "execute_result"
    }
   ],
   "source": [
    "evaluate_model_with_cross_validation(X, y, model=MODELS.LOGISTIC_REGRESSION)"
   ]
  },
  {
   "cell_type": "code",
   "execution_count": 10,
   "metadata": {},
   "outputs": [
    {
     "data": {
      "text/plain": [
       "array([0.6, 1. , 1. , 0.7, 0.5])"
      ]
     },
     "execution_count": 10,
     "metadata": {},
     "output_type": "execute_result"
    }
   ],
   "source": [
    "evaluate_model_with_cross_validation(X, y, model=MODELS.ADA_BOOST)"
   ]
  },
  {
   "cell_type": "code",
   "execution_count": 11,
   "metadata": {},
   "outputs": [
    {
     "data": {
      "text/plain": [
       "array([0.8, 0.7, 0.7, 0.9, 0.8])"
      ]
     },
     "execution_count": 11,
     "metadata": {},
     "output_type": "execute_result"
    }
   ],
   "source": [
    "evaluate_model_with_cross_validation(X, y, model=MODELS.NAIVE_BAYES)"
   ]
  },
  {
   "cell_type": "code",
   "execution_count": 12,
   "metadata": {},
   "outputs": [
    {
     "data": {
      "text/plain": [
       "array([0.7, 0.7, 1. , 1. , 0.8])"
      ]
     },
     "execution_count": 12,
     "metadata": {},
     "output_type": "execute_result"
    }
   ],
   "source": [
    "evaluate_model_with_cross_validation(X, y, model=MODELS.VOTING_CLASSIFIER)"
   ]
  },
  {
   "cell_type": "markdown",
   "metadata": {},
   "source": [
    "---\n",
    "### <a name='2.0'>**S**upport **V**ector **C**lassifier</a>\n",
    "Good with high dimensions, normlizing because the distance"
   ]
  },
  {
   "cell_type": "markdown",
   "metadata": {},
   "source": [
    "get best params"
   ]
  },
  {
   "cell_type": "code",
   "execution_count": 13,
   "metadata": {},
   "outputs": [],
   "source": [
    "data = df = anoog.io.load_data(\"../../data/2021-11-09\",\n",
    "                        ['tippolit', 'vkorzev'],\n",
    "                        extraction=anoog.io.extraction_mode.MANUEL,\n",
    "                        selection=anoog.io.selection_mode.NONE,\n",
    "                        train_test_split=False,\n",
    "                        normalize=True)"
   ]
  },
  {
   "cell_type": "code",
   "execution_count": 14,
   "metadata": {},
   "outputs": [],
   "source": [
    "X,y = anoog.io.X_y_split(data)"
   ]
  },
  {
   "cell_type": "code",
   "execution_count": 15,
   "metadata": {},
   "outputs": [
    {
     "data": {
      "text/plain": [
       "GridSearchCV(estimator=SVC(),\n",
       "             param_grid={'C': [0.001, 0.1, 0.2, 0.5, 1.0, 1.5, 2.0, 2.5, 3.0],\n",
       "                         'decision_function_shape': ['ovo', 'ovr'],\n",
       "                         'kernel': ['linear', 'poly', 'rbf', 'sigmoid'],\n",
       "                         'probability': [True, False]})"
      ]
     },
     "execution_count": 15,
     "metadata": {},
     "output_type": "execute_result"
    }
   ],
   "source": [
    "param_grid = {'kernel':['linear', 'poly', 'rbf', 'sigmoid'],\n",
    "              'probability':[True, False], 'decision_function_shape':['ovo', 'ovr'],\n",
    "              'C':[0.001,0.1,0.2,0.5,1.0,1.5,2.0,2.5,3.0]  }\n",
    "grid_searcher = GridSearchCV(SVC(), param_grid)\n",
    "grid_searcher.fit(X, y)"
   ]
  },
  {
   "cell_type": "code",
   "execution_count": 16,
   "metadata": {},
   "outputs": [
    {
     "data": {
      "text/plain": [
       "{'C': 0.1,\n",
       " 'decision_function_shape': 'ovo',\n",
       " 'kernel': 'poly',\n",
       " 'probability': True}"
      ]
     },
     "execution_count": 16,
     "metadata": {},
     "output_type": "execute_result"
    }
   ],
   "source": [
    "grid_searcher.best_params_"
   ]
  },
  {
   "cell_type": "markdown",
   "metadata": {},
   "source": [
    "Try best params"
   ]
  },
  {
   "cell_type": "code",
   "execution_count": 17,
   "metadata": {},
   "outputs": [
    {
     "name": "stderr",
     "output_type": "stream",
     "text": [
      "../../src\\anoog\\io\\data_io.py:72: SettingWithCopyWarning: \n",
      "A value is trying to be set on a copy of a slice from a DataFrame.\n",
      "Try using .loc[row_indexer,col_indexer] = value instead\n",
      "\n",
      "See the caveats in the documentation: https://pandas.pydata.org/pandas-docs/stable/user_guide/indexing.html#returning-a-view-versus-a-copy\n",
      "  new_dataset['y'] = data[1]\n",
      "../../src\\anoog\\io\\data_io.py:72: SettingWithCopyWarning: \n",
      "A value is trying to be set on a copy of a slice from a DataFrame.\n",
      "Try using .loc[row_indexer,col_indexer] = value instead\n",
      "\n",
      "See the caveats in the documentation: https://pandas.pydata.org/pandas-docs/stable/user_guide/indexing.html#returning-a-view-versus-a-copy\n",
      "  new_dataset['y'] = data[1]\n"
     ]
    }
   ],
   "source": [
    "train, test = anoog.io.load_data(\"../../data/2021-11-09\",\n",
    "                        ['tippolit', 'vkorzev'],\n",
    "                        extraction=anoog.io.extraction_mode.MANUEL,\n",
    "                        selection=anoog.io.selection_mode.NONE,\n",
    "                        train_test_split=True,\n",
    "                        test_size=0.3,\n",
    "                        normalize=True)"
   ]
  },
  {
   "cell_type": "code",
   "execution_count": 18,
   "metadata": {},
   "outputs": [],
   "source": [
    "X_train, y_train = anoog.io.X_y_split(train)\n",
    "X_test, y_test = anoog.io.X_y_split(test)"
   ]
  },
  {
   "cell_type": "code",
   "execution_count": 19,
   "metadata": {},
   "outputs": [],
   "source": [
    "model = SVC(C= 0.1, decision_function_shape='ovo', kernel='poly', probability=True)\n",
    "model = model.fit(X_train, y_train)"
   ]
  },
  {
   "cell_type": "code",
   "execution_count": 20,
   "metadata": {},
   "outputs": [
    {
     "name": "stdout",
     "output_type": "stream",
     "text": [
      "#### RESULTS ####\n",
      "\n",
      "Accuracy:  93.33333333333333\n",
      "--------\n",
      "Confusion Matrix:\n",
      "[[9 1]\n",
      " [0 5]] \n",
      "\n"
     ]
    }
   ],
   "source": [
    "acc, con = evaluate_model(model, X_test, y_test)\n",
    "\n",
    "print(f\"#### RESULTS ####\\n\\nAccuracy: \", acc)\n",
    "print(\"--------\\nConfusion Matrix:\")\n",
    "print(con, \"\\n\")"
   ]
  },
  {
   "cell_type": "markdown",
   "metadata": {},
   "source": [
    "check with 10-fold-Crossvalidation"
   ]
  },
  {
   "cell_type": "code",
   "execution_count": 21,
   "metadata": {},
   "outputs": [
    {
     "data": {
      "text/plain": [
       "array([1. , 0.8, 0.9, 1. , 0.8])"
      ]
     },
     "execution_count": 21,
     "metadata": {},
     "output_type": "execute_result"
    }
   ],
   "source": [
    "evaluate_model_with_cross_validation(X, y, model=MODELS.SVM)"
   ]
  },
  {
   "cell_type": "markdown",
   "metadata": {},
   "source": [
    "---\n",
    "### <a name='3.0'>**K**-**N**earest**N**eighbors-Classifier</a>\n",
    "Bad with high dimensionality, needs a normalization."
   ]
  },
  {
   "cell_type": "code",
   "execution_count": 22,
   "metadata": {},
   "outputs": [],
   "source": [
    "data = df = anoog.io.load_data(\"../../data/2021-11-09\",\n",
    "                        ['tippolit', 'vkorzev'],\n",
    "                        extraction=anoog.io.extraction_mode.MANUEL,\n",
    "                        selection=anoog.io.selection_mode.NONE,\n",
    "                        train_test_split=False,\n",
    "                        normalize=True)"
   ]
  },
  {
   "cell_type": "code",
   "execution_count": 23,
   "metadata": {},
   "outputs": [
    {
     "data": {
      "text/html": [
       "<div>\n",
       "<style scoped>\n",
       "    .dataframe tbody tr th:only-of-type {\n",
       "        vertical-align: middle;\n",
       "    }\n",
       "\n",
       "    .dataframe tbody tr th {\n",
       "        vertical-align: top;\n",
       "    }\n",
       "\n",
       "    .dataframe thead th {\n",
       "        text-align: right;\n",
       "    }\n",
       "</style>\n",
       "<table border=\"1\" class=\"dataframe\">\n",
       "  <thead>\n",
       "    <tr style=\"text-align: right;\">\n",
       "      <th></th>\n",
       "      <th>audio_min</th>\n",
       "      <th>audio_max</th>\n",
       "      <th>audio_mean</th>\n",
       "      <th>audio_median</th>\n",
       "      <th>audio_std</th>\n",
       "      <th>current_min</th>\n",
       "      <th>current_max</th>\n",
       "      <th>current_mean</th>\n",
       "      <th>current_median</th>\n",
       "      <th>current_std</th>\n",
       "      <th>...</th>\n",
       "      <th>voltage_max</th>\n",
       "      <th>voltage_mean</th>\n",
       "      <th>voltage_median</th>\n",
       "      <th>voltage_std</th>\n",
       "      <th>Time</th>\n",
       "      <th>Resistance</th>\n",
       "      <th>Power</th>\n",
       "      <th>Work</th>\n",
       "      <th>mAh</th>\n",
       "      <th>Wh</th>\n",
       "    </tr>\n",
       "  </thead>\n",
       "  <tbody>\n",
       "    <tr>\n",
       "      <th>45</th>\n",
       "      <td>0.499970</td>\n",
       "      <td>0.524153</td>\n",
       "      <td>0.546429</td>\n",
       "      <td>0.486107</td>\n",
       "      <td>0.498624</td>\n",
       "      <td>0.981361</td>\n",
       "      <td>0.794324</td>\n",
       "      <td>0.099471</td>\n",
       "      <td>0.051765</td>\n",
       "      <td>0.403033</td>\n",
       "      <td>...</td>\n",
       "      <td>0.071831</td>\n",
       "      <td>0.262847</td>\n",
       "      <td>0.322230</td>\n",
       "      <td>0.370096</td>\n",
       "      <td>0.629174</td>\n",
       "      <td>0.098147</td>\n",
       "      <td>0.100821</td>\n",
       "      <td>0.280750</td>\n",
       "      <td>0.099471</td>\n",
       "      <td>0.100821</td>\n",
       "    </tr>\n",
       "    <tr>\n",
       "      <th>46</th>\n",
       "      <td>0.501927</td>\n",
       "      <td>0.519836</td>\n",
       "      <td>0.631510</td>\n",
       "      <td>0.485915</td>\n",
       "      <td>0.462201</td>\n",
       "      <td>0.950122</td>\n",
       "      <td>0.780712</td>\n",
       "      <td>0.106452</td>\n",
       "      <td>0.104558</td>\n",
       "      <td>0.384292</td>\n",
       "      <td>...</td>\n",
       "      <td>0.061311</td>\n",
       "      <td>0.254285</td>\n",
       "      <td>0.310874</td>\n",
       "      <td>0.346838</td>\n",
       "      <td>0.521968</td>\n",
       "      <td>0.105264</td>\n",
       "      <td>0.107660</td>\n",
       "      <td>0.118180</td>\n",
       "      <td>0.106452</td>\n",
       "      <td>0.107660</td>\n",
       "    </tr>\n",
       "    <tr>\n",
       "      <th>47</th>\n",
       "      <td>0.703289</td>\n",
       "      <td>0.393621</td>\n",
       "      <td>0.512861</td>\n",
       "      <td>0.487407</td>\n",
       "      <td>0.263667</td>\n",
       "      <td>0.420836</td>\n",
       "      <td>0.000000</td>\n",
       "      <td>0.000000</td>\n",
       "      <td>0.031463</td>\n",
       "      <td>0.000000</td>\n",
       "      <td>...</td>\n",
       "      <td>0.042432</td>\n",
       "      <td>0.274758</td>\n",
       "      <td>0.294388</td>\n",
       "      <td>0.000000</td>\n",
       "      <td>0.760984</td>\n",
       "      <td>0.000000</td>\n",
       "      <td>0.000000</td>\n",
       "      <td>0.166171</td>\n",
       "      <td>0.000000</td>\n",
       "      <td>0.000000</td>\n",
       "    </tr>\n",
       "    <tr>\n",
       "      <th>48</th>\n",
       "      <td>0.502029</td>\n",
       "      <td>0.513907</td>\n",
       "      <td>0.577089</td>\n",
       "      <td>0.486803</td>\n",
       "      <td>0.431190</td>\n",
       "      <td>0.420836</td>\n",
       "      <td>0.876737</td>\n",
       "      <td>0.173159</td>\n",
       "      <td>0.130077</td>\n",
       "      <td>0.436350</td>\n",
       "      <td>...</td>\n",
       "      <td>0.042432</td>\n",
       "      <td>0.196933</td>\n",
       "      <td>0.256548</td>\n",
       "      <td>0.390586</td>\n",
       "      <td>0.520211</td>\n",
       "      <td>0.172791</td>\n",
       "      <td>0.173515</td>\n",
       "      <td>0.288815</td>\n",
       "      <td>0.173159</td>\n",
       "      <td>0.173515</td>\n",
       "    </tr>\n",
       "    <tr>\n",
       "      <th>49</th>\n",
       "      <td>0.792630</td>\n",
       "      <td>0.469935</td>\n",
       "      <td>0.792698</td>\n",
       "      <td>0.454811</td>\n",
       "      <td>0.339974</td>\n",
       "      <td>0.420836</td>\n",
       "      <td>0.862295</td>\n",
       "      <td>0.216525</td>\n",
       "      <td>0.194656</td>\n",
       "      <td>0.407967</td>\n",
       "      <td>...</td>\n",
       "      <td>0.000000</td>\n",
       "      <td>0.157877</td>\n",
       "      <td>0.198933</td>\n",
       "      <td>0.368864</td>\n",
       "      <td>0.534271</td>\n",
       "      <td>0.216968</td>\n",
       "      <td>0.216049</td>\n",
       "      <td>0.429380</td>\n",
       "      <td>0.216525</td>\n",
       "      <td>0.216049</td>\n",
       "    </tr>\n",
       "  </tbody>\n",
       "</table>\n",
       "<p>5 rows × 21 columns</p>\n",
       "</div>"
      ],
      "text/plain": [
       "    audio_min  audio_max  audio_mean  audio_median  audio_std  current_min  \\\n",
       "45   0.499970   0.524153    0.546429      0.486107   0.498624     0.981361   \n",
       "46   0.501927   0.519836    0.631510      0.485915   0.462201     0.950122   \n",
       "47   0.703289   0.393621    0.512861      0.487407   0.263667     0.420836   \n",
       "48   0.502029   0.513907    0.577089      0.486803   0.431190     0.420836   \n",
       "49   0.792630   0.469935    0.792698      0.454811   0.339974     0.420836   \n",
       "\n",
       "    current_max  current_mean  current_median  current_std  ...  voltage_max  \\\n",
       "45     0.794324      0.099471        0.051765     0.403033  ...     0.071831   \n",
       "46     0.780712      0.106452        0.104558     0.384292  ...     0.061311   \n",
       "47     0.000000      0.000000        0.031463     0.000000  ...     0.042432   \n",
       "48     0.876737      0.173159        0.130077     0.436350  ...     0.042432   \n",
       "49     0.862295      0.216525        0.194656     0.407967  ...     0.000000   \n",
       "\n",
       "    voltage_mean  voltage_median  voltage_std      Time  Resistance     Power  \\\n",
       "45      0.262847        0.322230     0.370096  0.629174    0.098147  0.100821   \n",
       "46      0.254285        0.310874     0.346838  0.521968    0.105264  0.107660   \n",
       "47      0.274758        0.294388     0.000000  0.760984    0.000000  0.000000   \n",
       "48      0.196933        0.256548     0.390586  0.520211    0.172791  0.173515   \n",
       "49      0.157877        0.198933     0.368864  0.534271    0.216968  0.216049   \n",
       "\n",
       "        Work       mAh        Wh  \n",
       "45  0.280750  0.099471  0.100821  \n",
       "46  0.118180  0.106452  0.107660  \n",
       "47  0.166171  0.000000  0.000000  \n",
       "48  0.288815  0.173159  0.173515  \n",
       "49  0.429380  0.216525  0.216049  \n",
       "\n",
       "[5 rows x 21 columns]"
      ]
     },
     "execution_count": 23,
     "metadata": {},
     "output_type": "execute_result"
    }
   ],
   "source": [
    "X,y = anoog.io.X_y_split(data)\n",
    "X.tail()"
   ]
  },
  {
   "cell_type": "code",
   "execution_count": 24,
   "metadata": {},
   "outputs": [
    {
     "data": {
      "text/html": [
       "<div>\n",
       "<style scoped>\n",
       "    .dataframe tbody tr th:only-of-type {\n",
       "        vertical-align: middle;\n",
       "    }\n",
       "\n",
       "    .dataframe tbody tr th {\n",
       "        vertical-align: top;\n",
       "    }\n",
       "\n",
       "    .dataframe thead th {\n",
       "        text-align: right;\n",
       "    }\n",
       "</style>\n",
       "<table border=\"1\" class=\"dataframe\">\n",
       "  <thead>\n",
       "    <tr style=\"text-align: right;\">\n",
       "      <th></th>\n",
       "      <th>voltage_max</th>\n",
       "      <th>voltage_mean</th>\n",
       "      <th>voltage_median</th>\n",
       "      <th>voltage_std</th>\n",
       "      <th>current_max</th>\n",
       "    </tr>\n",
       "  </thead>\n",
       "  <tbody>\n",
       "    <tr>\n",
       "      <th>45</th>\n",
       "      <td>0.071831</td>\n",
       "      <td>0.262847</td>\n",
       "      <td>0.322230</td>\n",
       "      <td>0.370096</td>\n",
       "      <td>0.794324</td>\n",
       "    </tr>\n",
       "    <tr>\n",
       "      <th>46</th>\n",
       "      <td>0.061311</td>\n",
       "      <td>0.254285</td>\n",
       "      <td>0.310874</td>\n",
       "      <td>0.346838</td>\n",
       "      <td>0.780712</td>\n",
       "    </tr>\n",
       "    <tr>\n",
       "      <th>47</th>\n",
       "      <td>0.042432</td>\n",
       "      <td>0.274758</td>\n",
       "      <td>0.294388</td>\n",
       "      <td>0.000000</td>\n",
       "      <td>0.000000</td>\n",
       "    </tr>\n",
       "    <tr>\n",
       "      <th>48</th>\n",
       "      <td>0.042432</td>\n",
       "      <td>0.196933</td>\n",
       "      <td>0.256548</td>\n",
       "      <td>0.390586</td>\n",
       "      <td>0.876737</td>\n",
       "    </tr>\n",
       "    <tr>\n",
       "      <th>49</th>\n",
       "      <td>0.000000</td>\n",
       "      <td>0.157877</td>\n",
       "      <td>0.198933</td>\n",
       "      <td>0.368864</td>\n",
       "      <td>0.862295</td>\n",
       "    </tr>\n",
       "  </tbody>\n",
       "</table>\n",
       "</div>"
      ],
      "text/plain": [
       "    voltage_max  voltage_mean  voltage_median  voltage_std  current_max\n",
       "45     0.071831      0.262847        0.322230     0.370096     0.794324\n",
       "46     0.061311      0.254285        0.310874     0.346838     0.780712\n",
       "47     0.042432      0.274758        0.294388     0.000000     0.000000\n",
       "48     0.042432      0.196933        0.256548     0.390586     0.876737\n",
       "49     0.000000      0.157877        0.198933     0.368864     0.862295"
      ]
     },
     "execution_count": 24,
     "metadata": {},
     "output_type": "execute_result"
    }
   ],
   "source": [
    "X = anoog.io.model_based_feature_selection(X, y, n=3)\n",
    "X.tail()"
   ]
  },
  {
   "cell_type": "code",
   "execution_count": 25,
   "metadata": {},
   "outputs": [
    {
     "data": {
      "text/plain": [
       "GridSearchCV(estimator=KNeighborsClassifier(),\n",
       "             param_grid={'algorithm': ['auto', 'ball_tree', 'kd_tree', 'brute'],\n",
       "                         'metric': ['minkowski', 'euclidean', 'manhattan',\n",
       "                                    'chebyshev'],\n",
       "                         'n_neighbors': [1, 2, 3, 4, 5, 6, 7, 8, 9],\n",
       "                         'weights': ['uniform', 'distance']})"
      ]
     },
     "execution_count": 25,
     "metadata": {},
     "output_type": "execute_result"
    }
   ],
   "source": [
    "param_grid = {'n_neighbors':[1,2,3,4,5,6,7,8,9],\n",
    "              'weights':['uniform', 'distance'], 'algorithm':['auto', 'ball_tree', 'kd_tree', 'brute'],\n",
    "              'metric':['minkowski', 'euclidean', 'manhattan', 'chebyshev']  }\n",
    "grid_searcher = GridSearchCV(KNN(), param_grid)\n",
    "grid_searcher.fit(X, y)"
   ]
  },
  {
   "cell_type": "code",
   "execution_count": 26,
   "metadata": {},
   "outputs": [
    {
     "data": {
      "text/plain": [
       "{'algorithm': 'auto',\n",
       " 'metric': 'chebyshev',\n",
       " 'n_neighbors': 1,\n",
       " 'weights': 'uniform'}"
      ]
     },
     "execution_count": 26,
     "metadata": {},
     "output_type": "execute_result"
    }
   ],
   "source": [
    "grid_searcher.best_params_"
   ]
  },
  {
   "cell_type": "markdown",
   "metadata": {},
   "source": [
    "test best params"
   ]
  },
  {
   "cell_type": "code",
   "execution_count": 27,
   "metadata": {},
   "outputs": [
    {
     "name": "stderr",
     "output_type": "stream",
     "text": [
      "../../src\\anoog\\io\\data_io.py:72: SettingWithCopyWarning: \n",
      "A value is trying to be set on a copy of a slice from a DataFrame.\n",
      "Try using .loc[row_indexer,col_indexer] = value instead\n",
      "\n",
      "See the caveats in the documentation: https://pandas.pydata.org/pandas-docs/stable/user_guide/indexing.html#returning-a-view-versus-a-copy\n",
      "  new_dataset['y'] = data[1]\n",
      "../../src\\anoog\\io\\data_io.py:72: SettingWithCopyWarning: \n",
      "A value is trying to be set on a copy of a slice from a DataFrame.\n",
      "Try using .loc[row_indexer,col_indexer] = value instead\n",
      "\n",
      "See the caveats in the documentation: https://pandas.pydata.org/pandas-docs/stable/user_guide/indexing.html#returning-a-view-versus-a-copy\n",
      "  new_dataset['y'] = data[1]\n"
     ]
    }
   ],
   "source": [
    "train, test = anoog.io.load_data(\"../../data/2021-11-09\",\n",
    "                        ['tippolit', 'vkorzev'],\n",
    "                        extraction=anoog.io.extraction_mode.MANUEL,\n",
    "                        selection=anoog.io.selection_mode.NONE,\n",
    "                        train_test_split=True,\n",
    "                        test_size=0.3,\n",
    "                        normalize=True)"
   ]
  },
  {
   "cell_type": "code",
   "execution_count": 28,
   "metadata": {},
   "outputs": [],
   "source": [
    "X_train, y_train = anoog.io.X_y_split(train)\n",
    "X_test, y_test = anoog.io.X_y_split(test)"
   ]
  },
  {
   "cell_type": "code",
   "execution_count": 29,
   "metadata": {},
   "outputs": [],
   "source": [
    "model = KNN(algorithm='auto', metric='chebyshev', n_neighbors=6, weights='uniform')\n",
    "model = model.fit(X_train, y_train)"
   ]
  },
  {
   "cell_type": "code",
   "execution_count": 30,
   "metadata": {},
   "outputs": [
    {
     "name": "stdout",
     "output_type": "stream",
     "text": [
      "#### RESULTS ####\n",
      "\n",
      "Accuracy:  60.0\n",
      "--------\n",
      "Confusion Matrix:\n",
      "[[5 0]\n",
      " [6 4]] \n",
      "\n"
     ]
    }
   ],
   "source": [
    "acc, con = evaluate_model(model, X_test, y_test)\n",
    "\n",
    "print(f\"#### RESULTS ####\\n\\nAccuracy: \", acc)\n",
    "print(\"--------\\nConfusion Matrix:\")\n",
    "print(con, \"\\n\")"
   ]
  },
  {
   "cell_type": "markdown",
   "metadata": {},
   "source": [
    "check with 10-fold-Crossvalidation"
   ]
  },
  {
   "cell_type": "code",
   "execution_count": 31,
   "metadata": {},
   "outputs": [
    {
     "data": {
      "text/plain": [
       "array([0.6, 0.8, 0.8, 1. , 0.8])"
      ]
     },
     "execution_count": 31,
     "metadata": {},
     "output_type": "execute_result"
    }
   ],
   "source": [
    "evaluate_model_with_cross_validation(X, y, model=MODELS.KNN)"
   ]
  },
  {
   "cell_type": "markdown",
   "metadata": {},
   "source": [
    "---\n",
    "### <a name='4.0'>Voting Classifier</a>"
   ]
  },
  {
   "cell_type": "markdown",
   "metadata": {},
   "source": [
    "find best params"
   ]
  },
  {
   "cell_type": "code",
   "execution_count": 32,
   "metadata": {},
   "outputs": [],
   "source": [
    "data = df = anoog.io.load_data(\"../../data/2021-11-09\",\n",
    "                        ['tippolit', 'vkorzev'],\n",
    "                        extraction=anoog.io.extraction_mode.MANUEL,\n",
    "                        selection=anoog.io.selection_mode.NONE,\n",
    "                        train_test_split=False,\n",
    "                        normalize=True)"
   ]
  },
  {
   "cell_type": "code",
   "execution_count": 33,
   "metadata": {},
   "outputs": [
    {
     "data": {
      "text/html": [
       "<div>\n",
       "<style scoped>\n",
       "    .dataframe tbody tr th:only-of-type {\n",
       "        vertical-align: middle;\n",
       "    }\n",
       "\n",
       "    .dataframe tbody tr th {\n",
       "        vertical-align: top;\n",
       "    }\n",
       "\n",
       "    .dataframe thead th {\n",
       "        text-align: right;\n",
       "    }\n",
       "</style>\n",
       "<table border=\"1\" class=\"dataframe\">\n",
       "  <thead>\n",
       "    <tr style=\"text-align: right;\">\n",
       "      <th></th>\n",
       "      <th>audio_min</th>\n",
       "      <th>audio_max</th>\n",
       "      <th>audio_mean</th>\n",
       "      <th>audio_median</th>\n",
       "      <th>audio_std</th>\n",
       "      <th>current_min</th>\n",
       "      <th>current_max</th>\n",
       "      <th>current_mean</th>\n",
       "      <th>current_median</th>\n",
       "      <th>current_std</th>\n",
       "      <th>...</th>\n",
       "      <th>voltage_max</th>\n",
       "      <th>voltage_mean</th>\n",
       "      <th>voltage_median</th>\n",
       "      <th>voltage_std</th>\n",
       "      <th>Time</th>\n",
       "      <th>Resistance</th>\n",
       "      <th>Power</th>\n",
       "      <th>Work</th>\n",
       "      <th>mAh</th>\n",
       "      <th>Wh</th>\n",
       "    </tr>\n",
       "  </thead>\n",
       "  <tbody>\n",
       "    <tr>\n",
       "      <th>45</th>\n",
       "      <td>0.499970</td>\n",
       "      <td>0.524153</td>\n",
       "      <td>0.546429</td>\n",
       "      <td>0.486107</td>\n",
       "      <td>0.498624</td>\n",
       "      <td>0.981361</td>\n",
       "      <td>0.794324</td>\n",
       "      <td>0.099471</td>\n",
       "      <td>0.051765</td>\n",
       "      <td>0.403033</td>\n",
       "      <td>...</td>\n",
       "      <td>0.071831</td>\n",
       "      <td>0.262847</td>\n",
       "      <td>0.322230</td>\n",
       "      <td>0.370096</td>\n",
       "      <td>0.629174</td>\n",
       "      <td>0.098147</td>\n",
       "      <td>0.100821</td>\n",
       "      <td>0.280750</td>\n",
       "      <td>0.099471</td>\n",
       "      <td>0.100821</td>\n",
       "    </tr>\n",
       "    <tr>\n",
       "      <th>46</th>\n",
       "      <td>0.501927</td>\n",
       "      <td>0.519836</td>\n",
       "      <td>0.631510</td>\n",
       "      <td>0.485915</td>\n",
       "      <td>0.462201</td>\n",
       "      <td>0.950122</td>\n",
       "      <td>0.780712</td>\n",
       "      <td>0.106452</td>\n",
       "      <td>0.104558</td>\n",
       "      <td>0.384292</td>\n",
       "      <td>...</td>\n",
       "      <td>0.061311</td>\n",
       "      <td>0.254285</td>\n",
       "      <td>0.310874</td>\n",
       "      <td>0.346838</td>\n",
       "      <td>0.521968</td>\n",
       "      <td>0.105264</td>\n",
       "      <td>0.107660</td>\n",
       "      <td>0.118180</td>\n",
       "      <td>0.106452</td>\n",
       "      <td>0.107660</td>\n",
       "    </tr>\n",
       "    <tr>\n",
       "      <th>47</th>\n",
       "      <td>0.703289</td>\n",
       "      <td>0.393621</td>\n",
       "      <td>0.512861</td>\n",
       "      <td>0.487407</td>\n",
       "      <td>0.263667</td>\n",
       "      <td>0.420836</td>\n",
       "      <td>0.000000</td>\n",
       "      <td>0.000000</td>\n",
       "      <td>0.031463</td>\n",
       "      <td>0.000000</td>\n",
       "      <td>...</td>\n",
       "      <td>0.042432</td>\n",
       "      <td>0.274758</td>\n",
       "      <td>0.294388</td>\n",
       "      <td>0.000000</td>\n",
       "      <td>0.760984</td>\n",
       "      <td>0.000000</td>\n",
       "      <td>0.000000</td>\n",
       "      <td>0.166171</td>\n",
       "      <td>0.000000</td>\n",
       "      <td>0.000000</td>\n",
       "    </tr>\n",
       "    <tr>\n",
       "      <th>48</th>\n",
       "      <td>0.502029</td>\n",
       "      <td>0.513907</td>\n",
       "      <td>0.577089</td>\n",
       "      <td>0.486803</td>\n",
       "      <td>0.431190</td>\n",
       "      <td>0.420836</td>\n",
       "      <td>0.876737</td>\n",
       "      <td>0.173159</td>\n",
       "      <td>0.130077</td>\n",
       "      <td>0.436350</td>\n",
       "      <td>...</td>\n",
       "      <td>0.042432</td>\n",
       "      <td>0.196933</td>\n",
       "      <td>0.256548</td>\n",
       "      <td>0.390586</td>\n",
       "      <td>0.520211</td>\n",
       "      <td>0.172791</td>\n",
       "      <td>0.173515</td>\n",
       "      <td>0.288815</td>\n",
       "      <td>0.173159</td>\n",
       "      <td>0.173515</td>\n",
       "    </tr>\n",
       "    <tr>\n",
       "      <th>49</th>\n",
       "      <td>0.792630</td>\n",
       "      <td>0.469935</td>\n",
       "      <td>0.792698</td>\n",
       "      <td>0.454811</td>\n",
       "      <td>0.339974</td>\n",
       "      <td>0.420836</td>\n",
       "      <td>0.862295</td>\n",
       "      <td>0.216525</td>\n",
       "      <td>0.194656</td>\n",
       "      <td>0.407967</td>\n",
       "      <td>...</td>\n",
       "      <td>0.000000</td>\n",
       "      <td>0.157877</td>\n",
       "      <td>0.198933</td>\n",
       "      <td>0.368864</td>\n",
       "      <td>0.534271</td>\n",
       "      <td>0.216968</td>\n",
       "      <td>0.216049</td>\n",
       "      <td>0.429380</td>\n",
       "      <td>0.216525</td>\n",
       "      <td>0.216049</td>\n",
       "    </tr>\n",
       "  </tbody>\n",
       "</table>\n",
       "<p>5 rows × 21 columns</p>\n",
       "</div>"
      ],
      "text/plain": [
       "    audio_min  audio_max  audio_mean  audio_median  audio_std  current_min  \\\n",
       "45   0.499970   0.524153    0.546429      0.486107   0.498624     0.981361   \n",
       "46   0.501927   0.519836    0.631510      0.485915   0.462201     0.950122   \n",
       "47   0.703289   0.393621    0.512861      0.487407   0.263667     0.420836   \n",
       "48   0.502029   0.513907    0.577089      0.486803   0.431190     0.420836   \n",
       "49   0.792630   0.469935    0.792698      0.454811   0.339974     0.420836   \n",
       "\n",
       "    current_max  current_mean  current_median  current_std  ...  voltage_max  \\\n",
       "45     0.794324      0.099471        0.051765     0.403033  ...     0.071831   \n",
       "46     0.780712      0.106452        0.104558     0.384292  ...     0.061311   \n",
       "47     0.000000      0.000000        0.031463     0.000000  ...     0.042432   \n",
       "48     0.876737      0.173159        0.130077     0.436350  ...     0.042432   \n",
       "49     0.862295      0.216525        0.194656     0.407967  ...     0.000000   \n",
       "\n",
       "    voltage_mean  voltage_median  voltage_std      Time  Resistance     Power  \\\n",
       "45      0.262847        0.322230     0.370096  0.629174    0.098147  0.100821   \n",
       "46      0.254285        0.310874     0.346838  0.521968    0.105264  0.107660   \n",
       "47      0.274758        0.294388     0.000000  0.760984    0.000000  0.000000   \n",
       "48      0.196933        0.256548     0.390586  0.520211    0.172791  0.173515   \n",
       "49      0.157877        0.198933     0.368864  0.534271    0.216968  0.216049   \n",
       "\n",
       "        Work       mAh        Wh  \n",
       "45  0.280750  0.099471  0.100821  \n",
       "46  0.118180  0.106452  0.107660  \n",
       "47  0.166171  0.000000  0.000000  \n",
       "48  0.288815  0.173159  0.173515  \n",
       "49  0.429380  0.216525  0.216049  \n",
       "\n",
       "[5 rows x 21 columns]"
      ]
     },
     "execution_count": 33,
     "metadata": {},
     "output_type": "execute_result"
    }
   ],
   "source": [
    "X,y = anoog.io.X_y_split(data)\n",
    "X.tail()"
   ]
  },
  {
   "cell_type": "markdown",
   "metadata": {},
   "source": [
    "test best params"
   ]
  },
  {
   "cell_type": "code",
   "execution_count": 34,
   "metadata": {},
   "outputs": [
    {
     "name": "stderr",
     "output_type": "stream",
     "text": [
      "../../src\\anoog\\io\\data_io.py:72: SettingWithCopyWarning: \n",
      "A value is trying to be set on a copy of a slice from a DataFrame.\n",
      "Try using .loc[row_indexer,col_indexer] = value instead\n",
      "\n",
      "See the caveats in the documentation: https://pandas.pydata.org/pandas-docs/stable/user_guide/indexing.html#returning-a-view-versus-a-copy\n",
      "  new_dataset['y'] = data[1]\n",
      "../../src\\anoog\\io\\data_io.py:72: SettingWithCopyWarning: \n",
      "A value is trying to be set on a copy of a slice from a DataFrame.\n",
      "Try using .loc[row_indexer,col_indexer] = value instead\n",
      "\n",
      "See the caveats in the documentation: https://pandas.pydata.org/pandas-docs/stable/user_guide/indexing.html#returning-a-view-versus-a-copy\n",
      "  new_dataset['y'] = data[1]\n"
     ]
    }
   ],
   "source": [
    "train, test = anoog.io.load_data(\"../../data/2021-11-09\",\n",
    "                        ['tippolit', 'vkorzev'],\n",
    "                        extraction=anoog.io.extraction_mode.MANUEL,\n",
    "                        selection=anoog.io.selection_mode.NONE,\n",
    "                        train_test_split=True,\n",
    "                        test_size=0.3,\n",
    "                        normalize=True)"
   ]
  },
  {
   "cell_type": "code",
   "execution_count": 35,
   "metadata": {},
   "outputs": [],
   "source": [
    "X_train, y_train = anoog.io.X_y_split(train)\n",
    "X_test, y_test = anoog.io.X_y_split(test)"
   ]
  },
  {
   "cell_type": "code",
   "execution_count": 36,
   "metadata": {},
   "outputs": [],
   "source": [
    "estimators_1 = [('SVC', SVC(C= 0.1, decision_function_shape='ovo', kernel='poly', probability=True)), \n",
    "                      ('RandomForest', RandomForestClassifier(n_estimators=100, criterion='entropy', min_samples_split=5))]\n",
    "\n",
    "estimators_2 = [('SVC', SVC(C= 0.1, decision_function_shape='ovo', kernel='poly', probability=True)), \n",
    "                ('RandomForest', RandomForestClassifier(n_estimators=100, criterion='entropy', min_samples_split=5)),\n",
    "                ('RandomForest2', RandomForestClassifier())]\n",
    "\n",
    "estimators_3 = [('SVC', SVC(C= 0.1, decision_function_shape='ovo', kernel='poly', probability=True)), \n",
    "                ('RandomForest', RandomForestClassifier(n_estimators=100, criterion='entropy', min_samples_split=5)),\n",
    "                ('KNN', KNN(algorithm='auto', metric='chebyshev', n_neighbors=6, weights='uniform'))]\n",
    "\n",
    "model = VotingClassifier(estimators=estimators_3, voting='hard')\n",
    "model = model.fit(X_train, y_train)"
   ]
  },
  {
   "cell_type": "code",
   "execution_count": 37,
   "metadata": {},
   "outputs": [
    {
     "name": "stdout",
     "output_type": "stream",
     "text": [
      "#### RESULTS ####\n",
      "\n",
      "Accuracy:  80.0\n",
      "--------\n",
      "Confusion Matrix:\n",
      "[[6 0]\n",
      " [3 6]] \n",
      "\n"
     ]
    }
   ],
   "source": [
    "acc, con = evaluate_model(model, X_test, y_test)\n",
    "\n",
    "print(f\"#### RESULTS ####\\n\\nAccuracy: \", acc)\n",
    "print(\"--------\\nConfusion Matrix:\")\n",
    "print(con, \"\\n\")"
   ]
  },
  {
   "cell_type": "markdown",
   "metadata": {},
   "source": [
    "check with 10-fold-Crossvalidation"
   ]
  },
  {
   "cell_type": "code",
   "execution_count": 38,
   "metadata": {},
   "outputs": [
    {
     "data": {
      "text/plain": [
       "array([0.7, 0.7, 1. , 1. , 0.8])"
      ]
     },
     "execution_count": 38,
     "metadata": {},
     "output_type": "execute_result"
    }
   ],
   "source": [
    "evaluate_model_with_cross_validation(X, y, model=MODELS.VOTING_CLASSIFIER)"
   ]
  },
  {
   "cell_type": "markdown",
   "metadata": {},
   "source": [
    "---\n",
    "### <a name='5.0'>Random Forest</a>"
   ]
  },
  {
   "cell_type": "markdown",
   "metadata": {},
   "source": [
    "find best params"
   ]
  },
  {
   "cell_type": "code",
   "execution_count": 39,
   "metadata": {},
   "outputs": [],
   "source": [
    "data = df = anoog.io.load_data(\"../../data/2021-11-09\",\n",
    "                        ['tippolit', 'vkorzev'],\n",
    "                        extraction=anoog.io.extraction_mode.MANUEL,\n",
    "                        selection=anoog.io.selection_mode.NONE,\n",
    "                        train_test_split=False,\n",
    "                        normalize=False)"
   ]
  },
  {
   "cell_type": "code",
   "execution_count": 40,
   "metadata": {},
   "outputs": [
    {
     "data": {
      "text/html": [
       "<div>\n",
       "<style scoped>\n",
       "    .dataframe tbody tr th:only-of-type {\n",
       "        vertical-align: middle;\n",
       "    }\n",
       "\n",
       "    .dataframe tbody tr th {\n",
       "        vertical-align: top;\n",
       "    }\n",
       "\n",
       "    .dataframe thead th {\n",
       "        text-align: right;\n",
       "    }\n",
       "</style>\n",
       "<table border=\"1\" class=\"dataframe\">\n",
       "  <thead>\n",
       "    <tr style=\"text-align: right;\">\n",
       "      <th></th>\n",
       "      <th>audio_min</th>\n",
       "      <th>audio_max</th>\n",
       "      <th>audio_mean</th>\n",
       "      <th>audio_median</th>\n",
       "      <th>audio_std</th>\n",
       "      <th>current_min</th>\n",
       "      <th>current_max</th>\n",
       "      <th>current_mean</th>\n",
       "      <th>current_median</th>\n",
       "      <th>current_std</th>\n",
       "      <th>...</th>\n",
       "      <th>voltage_max</th>\n",
       "      <th>voltage_mean</th>\n",
       "      <th>voltage_median</th>\n",
       "      <th>voltage_std</th>\n",
       "      <th>Time</th>\n",
       "      <th>Resistance</th>\n",
       "      <th>Power</th>\n",
       "      <th>Work</th>\n",
       "      <th>mAh</th>\n",
       "      <th>Wh</th>\n",
       "    </tr>\n",
       "  </thead>\n",
       "  <tbody>\n",
       "    <tr>\n",
       "      <th>45</th>\n",
       "      <td>-3.813901</td>\n",
       "      <td>3.485494</td>\n",
       "      <td>-0.005958</td>\n",
       "      <td>-0.000307</td>\n",
       "      <td>0.923199</td>\n",
       "      <td>-0.841899</td>\n",
       "      <td>30.302135</td>\n",
       "      <td>1.953009</td>\n",
       "      <td>1.898246</td>\n",
       "      <td>2.931288</td>\n",
       "      <td>...</td>\n",
       "      <td>19.666992</td>\n",
       "      <td>19.236397</td>\n",
       "      <td>19.249631</td>\n",
       "      <td>0.376643</td>\n",
       "      <td>5.76</td>\n",
       "      <td>0.101527</td>\n",
       "      <td>37.568856</td>\n",
       "      <td>216.396609</td>\n",
       "      <td>32.550150</td>\n",
       "      <td>626.147595</td>\n",
       "    </tr>\n",
       "    <tr>\n",
       "      <th>46</th>\n",
       "      <td>-3.805070</td>\n",
       "      <td>3.467371</td>\n",
       "      <td>-0.002143</td>\n",
       "      <td>-0.000328</td>\n",
       "      <td>0.879257</td>\n",
       "      <td>-0.847336</td>\n",
       "      <td>29.887917</td>\n",
       "      <td>1.977015</td>\n",
       "      <td>2.087429</td>\n",
       "      <td>2.853247</td>\n",
       "      <td>...</td>\n",
       "      <td>19.658431</td>\n",
       "      <td>19.227930</td>\n",
       "      <td>19.237225</td>\n",
       "      <td>0.363789</td>\n",
       "      <td>5.15</td>\n",
       "      <td>0.102820</td>\n",
       "      <td>38.013911</td>\n",
       "      <td>195.771642</td>\n",
       "      <td>32.950254</td>\n",
       "      <td>633.565184</td>\n",
       "    </tr>\n",
       "    <tr>\n",
       "      <th>47</th>\n",
       "      <td>-2.896698</td>\n",
       "      <td>2.937443</td>\n",
       "      <td>-0.007464</td>\n",
       "      <td>-0.000168</td>\n",
       "      <td>0.639745</td>\n",
       "      <td>-0.939453</td>\n",
       "      <td>6.131235</td>\n",
       "      <td>1.610943</td>\n",
       "      <td>1.825491</td>\n",
       "      <td>1.252940</td>\n",
       "      <td>...</td>\n",
       "      <td>19.643066</td>\n",
       "      <td>19.248177</td>\n",
       "      <td>19.219212</td>\n",
       "      <td>0.172090</td>\n",
       "      <td>6.51</td>\n",
       "      <td>0.083693</td>\n",
       "      <td>31.007708</td>\n",
       "      <td>201.860179</td>\n",
       "      <td>26.849043</td>\n",
       "      <td>516.795133</td>\n",
       "    </tr>\n",
       "    <tr>\n",
       "      <th>48</th>\n",
       "      <td>-3.804612</td>\n",
       "      <td>3.442479</td>\n",
       "      <td>-0.004583</td>\n",
       "      <td>-0.000233</td>\n",
       "      <td>0.841846</td>\n",
       "      <td>-0.939453</td>\n",
       "      <td>32.809911</td>\n",
       "      <td>2.206411</td>\n",
       "      <td>2.178879</td>\n",
       "      <td>3.070032</td>\n",
       "      <td>...</td>\n",
       "      <td>19.643066</td>\n",
       "      <td>19.171210</td>\n",
       "      <td>19.177871</td>\n",
       "      <td>0.387968</td>\n",
       "      <td>5.14</td>\n",
       "      <td>0.115090</td>\n",
       "      <td>42.299573</td>\n",
       "      <td>217.419805</td>\n",
       "      <td>36.773520</td>\n",
       "      <td>704.992883</td>\n",
       "    </tr>\n",
       "    <tr>\n",
       "      <th>49</th>\n",
       "      <td>-2.493667</td>\n",
       "      <td>3.257855</td>\n",
       "      <td>0.005086</td>\n",
       "      <td>-0.003672</td>\n",
       "      <td>0.731803</td>\n",
       "      <td>-0.939453</td>\n",
       "      <td>32.370458</td>\n",
       "      <td>2.355542</td>\n",
       "      <td>2.410300</td>\n",
       "      <td>2.951833</td>\n",
       "      <td>...</td>\n",
       "      <td>19.608533</td>\n",
       "      <td>19.132585</td>\n",
       "      <td>19.114923</td>\n",
       "      <td>0.375963</td>\n",
       "      <td>5.22</td>\n",
       "      <td>0.123117</td>\n",
       "      <td>45.067612</td>\n",
       "      <td>235.252934</td>\n",
       "      <td>39.259037</td>\n",
       "      <td>751.126866</td>\n",
       "    </tr>\n",
       "  </tbody>\n",
       "</table>\n",
       "<p>5 rows × 21 columns</p>\n",
       "</div>"
      ],
      "text/plain": [
       "    audio_min  audio_max  audio_mean  audio_median  audio_std  current_min  \\\n",
       "45  -3.813901   3.485494   -0.005958     -0.000307   0.923199    -0.841899   \n",
       "46  -3.805070   3.467371   -0.002143     -0.000328   0.879257    -0.847336   \n",
       "47  -2.896698   2.937443   -0.007464     -0.000168   0.639745    -0.939453   \n",
       "48  -3.804612   3.442479   -0.004583     -0.000233   0.841846    -0.939453   \n",
       "49  -2.493667   3.257855    0.005086     -0.003672   0.731803    -0.939453   \n",
       "\n",
       "    current_max  current_mean  current_median  current_std  ...  voltage_max  \\\n",
       "45    30.302135      1.953009        1.898246     2.931288  ...    19.666992   \n",
       "46    29.887917      1.977015        2.087429     2.853247  ...    19.658431   \n",
       "47     6.131235      1.610943        1.825491     1.252940  ...    19.643066   \n",
       "48    32.809911      2.206411        2.178879     3.070032  ...    19.643066   \n",
       "49    32.370458      2.355542        2.410300     2.951833  ...    19.608533   \n",
       "\n",
       "    voltage_mean  voltage_median  voltage_std  Time  Resistance      Power  \\\n",
       "45     19.236397       19.249631     0.376643  5.76    0.101527  37.568856   \n",
       "46     19.227930       19.237225     0.363789  5.15    0.102820  38.013911   \n",
       "47     19.248177       19.219212     0.172090  6.51    0.083693  31.007708   \n",
       "48     19.171210       19.177871     0.387968  5.14    0.115090  42.299573   \n",
       "49     19.132585       19.114923     0.375963  5.22    0.123117  45.067612   \n",
       "\n",
       "          Work        mAh          Wh  \n",
       "45  216.396609  32.550150  626.147595  \n",
       "46  195.771642  32.950254  633.565184  \n",
       "47  201.860179  26.849043  516.795133  \n",
       "48  217.419805  36.773520  704.992883  \n",
       "49  235.252934  39.259037  751.126866  \n",
       "\n",
       "[5 rows x 21 columns]"
      ]
     },
     "execution_count": 40,
     "metadata": {},
     "output_type": "execute_result"
    }
   ],
   "source": [
    "X,y = anoog.io.X_y_split(data)\n",
    "X.tail()"
   ]
  },
  {
   "cell_type": "code",
   "execution_count": 41,
   "metadata": {},
   "outputs": [
    {
     "data": {
      "text/plain": [
       "GridSearchCV(estimator=RandomForestClassifier(),\n",
       "             param_grid={'criterion': ['gini', 'entropy'],\n",
       "                         'min_samples_split': [2, 3, 4, 5],\n",
       "                         'n_estimators': [10, 25, 50, 75, 100, 125, 150]})"
      ]
     },
     "execution_count": 41,
     "metadata": {},
     "output_type": "execute_result"
    }
   ],
   "source": [
    "param_grid = {'n_estimators':[10, 25, 50, 75, 100, 125, 150],\n",
    "              'criterion':['gini', 'entropy'], 'min_samples_split':[2,3,4,5]}\n",
    "grid_searcher = GridSearchCV(RandomForestClassifier(), param_grid)\n",
    "grid_searcher.fit(X, y)"
   ]
  },
  {
   "cell_type": "code",
   "execution_count": 42,
   "metadata": {},
   "outputs": [
    {
     "data": {
      "text/plain": [
       "{'criterion': 'entropy', 'min_samples_split': 4, 'n_estimators': 10}"
      ]
     },
     "execution_count": 42,
     "metadata": {},
     "output_type": "execute_result"
    }
   ],
   "source": [
    "grid_searcher.best_params_"
   ]
  },
  {
   "cell_type": "markdown",
   "metadata": {},
   "source": [
    "Test best params"
   ]
  },
  {
   "cell_type": "code",
   "execution_count": 43,
   "metadata": {},
   "outputs": [
    {
     "name": "stderr",
     "output_type": "stream",
     "text": [
      "../../src\\anoog\\io\\data_io.py:72: SettingWithCopyWarning: \n",
      "A value is trying to be set on a copy of a slice from a DataFrame.\n",
      "Try using .loc[row_indexer,col_indexer] = value instead\n",
      "\n",
      "See the caveats in the documentation: https://pandas.pydata.org/pandas-docs/stable/user_guide/indexing.html#returning-a-view-versus-a-copy\n",
      "  new_dataset['y'] = data[1]\n"
     ]
    },
    {
     "data": {
      "text/html": [
       "<div>\n",
       "<style scoped>\n",
       "    .dataframe tbody tr th:only-of-type {\n",
       "        vertical-align: middle;\n",
       "    }\n",
       "\n",
       "    .dataframe tbody tr th {\n",
       "        vertical-align: top;\n",
       "    }\n",
       "\n",
       "    .dataframe thead th {\n",
       "        text-align: right;\n",
       "    }\n",
       "</style>\n",
       "<table border=\"1\" class=\"dataframe\">\n",
       "  <thead>\n",
       "    <tr style=\"text-align: right;\">\n",
       "      <th></th>\n",
       "      <th>audio_min</th>\n",
       "      <th>audio_max</th>\n",
       "      <th>audio_mean</th>\n",
       "      <th>audio_median</th>\n",
       "      <th>audio_std</th>\n",
       "      <th>current_min</th>\n",
       "      <th>current_max</th>\n",
       "      <th>current_mean</th>\n",
       "      <th>current_median</th>\n",
       "      <th>current_std</th>\n",
       "      <th>...</th>\n",
       "      <th>voltage_mean</th>\n",
       "      <th>voltage_median</th>\n",
       "      <th>voltage_std</th>\n",
       "      <th>Time</th>\n",
       "      <th>Resistance</th>\n",
       "      <th>Power</th>\n",
       "      <th>Work</th>\n",
       "      <th>mAh</th>\n",
       "      <th>Wh</th>\n",
       "      <th>y</th>\n",
       "    </tr>\n",
       "  </thead>\n",
       "  <tbody>\n",
       "    <tr>\n",
       "      <th>13</th>\n",
       "      <td>-5.712891</td>\n",
       "      <td>3.422858</td>\n",
       "      <td>-0.028224</td>\n",
       "      <td>-0.014136</td>\n",
       "      <td>1.235233</td>\n",
       "      <td>-0.850208</td>\n",
       "      <td>30.270541</td>\n",
       "      <td>3.522206</td>\n",
       "      <td>4.423537</td>\n",
       "      <td>4.191823</td>\n",
       "      <td>...</td>\n",
       "      <td>19.427482</td>\n",
       "      <td>19.281837</td>\n",
       "      <td>0.555071</td>\n",
       "      <td>3.32</td>\n",
       "      <td>0.181300</td>\n",
       "      <td>68.427596</td>\n",
       "      <td>227.179618</td>\n",
       "      <td>58.703435</td>\n",
       "      <td>1140.459929</td>\n",
       "      <td>0</td>\n",
       "    </tr>\n",
       "    <tr>\n",
       "      <th>21</th>\n",
       "      <td>-3.687213</td>\n",
       "      <td>3.800531</td>\n",
       "      <td>0.012627</td>\n",
       "      <td>-0.011499</td>\n",
       "      <td>1.247428</td>\n",
       "      <td>-0.866211</td>\n",
       "      <td>33.876846</td>\n",
       "      <td>3.150045</td>\n",
       "      <td>3.957732</td>\n",
       "      <td>4.098388</td>\n",
       "      <td>...</td>\n",
       "      <td>19.369811</td>\n",
       "      <td>19.263940</td>\n",
       "      <td>0.525924</td>\n",
       "      <td>3.93</td>\n",
       "      <td>0.162627</td>\n",
       "      <td>61.015780</td>\n",
       "      <td>239.792016</td>\n",
       "      <td>52.500752</td>\n",
       "      <td>1016.929670</td>\n",
       "      <td>0</td>\n",
       "    </tr>\n",
       "    <tr>\n",
       "      <th>47</th>\n",
       "      <td>-2.896698</td>\n",
       "      <td>2.937443</td>\n",
       "      <td>-0.007464</td>\n",
       "      <td>-0.000168</td>\n",
       "      <td>0.639745</td>\n",
       "      <td>-0.939453</td>\n",
       "      <td>6.131235</td>\n",
       "      <td>1.610943</td>\n",
       "      <td>1.825491</td>\n",
       "      <td>1.252940</td>\n",
       "      <td>...</td>\n",
       "      <td>19.248177</td>\n",
       "      <td>19.219212</td>\n",
       "      <td>0.172090</td>\n",
       "      <td>6.51</td>\n",
       "      <td>0.083693</td>\n",
       "      <td>31.007708</td>\n",
       "      <td>201.860179</td>\n",
       "      <td>26.849043</td>\n",
       "      <td>516.795133</td>\n",
       "      <td>1</td>\n",
       "    </tr>\n",
       "    <tr>\n",
       "      <th>16</th>\n",
       "      <td>-3.841994</td>\n",
       "      <td>3.481794</td>\n",
       "      <td>-0.024132</td>\n",
       "      <td>-0.052576</td>\n",
       "      <td>0.993623</td>\n",
       "      <td>-0.939453</td>\n",
       "      <td>36.434681</td>\n",
       "      <td>4.928060</td>\n",
       "      <td>5.296288</td>\n",
       "      <td>5.371777</td>\n",
       "      <td>...</td>\n",
       "      <td>19.183455</td>\n",
       "      <td>19.130656</td>\n",
       "      <td>0.724793</td>\n",
       "      <td>2.24</td>\n",
       "      <td>0.256891</td>\n",
       "      <td>94.537221</td>\n",
       "      <td>211.763376</td>\n",
       "      <td>82.134337</td>\n",
       "      <td>1575.620355</td>\n",
       "      <td>0</td>\n",
       "    </tr>\n",
       "    <tr>\n",
       "      <th>42</th>\n",
       "      <td>-1.558192</td>\n",
       "      <td>1.284775</td>\n",
       "      <td>0.000740</td>\n",
       "      <td>0.001490</td>\n",
       "      <td>0.374571</td>\n",
       "      <td>-0.861697</td>\n",
       "      <td>32.737817</td>\n",
       "      <td>3.043812</td>\n",
       "      <td>4.087125</td>\n",
       "      <td>3.661341</td>\n",
       "      <td>...</td>\n",
       "      <td>19.139812</td>\n",
       "      <td>18.982462</td>\n",
       "      <td>0.468965</td>\n",
       "      <td>4.23</td>\n",
       "      <td>0.159030</td>\n",
       "      <td>58.257982</td>\n",
       "      <td>246.431262</td>\n",
       "      <td>50.730193</td>\n",
       "      <td>970.966360</td>\n",
       "      <td>1</td>\n",
       "    </tr>\n",
       "  </tbody>\n",
       "</table>\n",
       "<p>5 rows × 22 columns</p>\n",
       "</div>"
      ],
      "text/plain": [
       "    audio_min  audio_max  audio_mean  audio_median  audio_std  current_min  \\\n",
       "13  -5.712891   3.422858   -0.028224     -0.014136   1.235233    -0.850208   \n",
       "21  -3.687213   3.800531    0.012627     -0.011499   1.247428    -0.866211   \n",
       "47  -2.896698   2.937443   -0.007464     -0.000168   0.639745    -0.939453   \n",
       "16  -3.841994   3.481794   -0.024132     -0.052576   0.993623    -0.939453   \n",
       "42  -1.558192   1.284775    0.000740      0.001490   0.374571    -0.861697   \n",
       "\n",
       "    current_max  current_mean  current_median  current_std  ...  voltage_mean  \\\n",
       "13    30.270541      3.522206        4.423537     4.191823  ...     19.427482   \n",
       "21    33.876846      3.150045        3.957732     4.098388  ...     19.369811   \n",
       "47     6.131235      1.610943        1.825491     1.252940  ...     19.248177   \n",
       "16    36.434681      4.928060        5.296288     5.371777  ...     19.183455   \n",
       "42    32.737817      3.043812        4.087125     3.661341  ...     19.139812   \n",
       "\n",
       "    voltage_median  voltage_std  Time  Resistance      Power        Work  \\\n",
       "13       19.281837     0.555071  3.32    0.181300  68.427596  227.179618   \n",
       "21       19.263940     0.525924  3.93    0.162627  61.015780  239.792016   \n",
       "47       19.219212     0.172090  6.51    0.083693  31.007708  201.860179   \n",
       "16       19.130656     0.724793  2.24    0.256891  94.537221  211.763376   \n",
       "42       18.982462     0.468965  4.23    0.159030  58.257982  246.431262   \n",
       "\n",
       "          mAh           Wh  y  \n",
       "13  58.703435  1140.459929  0  \n",
       "21  52.500752  1016.929670  0  \n",
       "47  26.849043   516.795133  1  \n",
       "16  82.134337  1575.620355  0  \n",
       "42  50.730193   970.966360  1  \n",
       "\n",
       "[5 rows x 22 columns]"
      ]
     },
     "execution_count": 43,
     "metadata": {},
     "output_type": "execute_result"
    }
   ],
   "source": [
    "train, test = anoog.io.load_data(\"../../data/2021-11-09\",\n",
    "                        ['tippolit', 'vkorzev'],\n",
    "                        extraction=anoog.io.extraction_mode.MANUEL,\n",
    "                        selection=anoog.io.selection_mode.NONE,\n",
    "                        train_test_split=True,\n",
    "                        test_size=0.3)\n",
    "train.tail()"
   ]
  },
  {
   "cell_type": "code",
   "execution_count": 44,
   "metadata": {},
   "outputs": [],
   "source": [
    "X_train, y_train = anoog.io.X_y_split(train)\n",
    "X_test, y_test = anoog.io.X_y_split(test)"
   ]
  },
  {
   "cell_type": "markdown",
   "metadata": {},
   "source": [
    "Train Model"
   ]
  },
  {
   "cell_type": "code",
   "execution_count": 45,
   "metadata": {},
   "outputs": [],
   "source": [
    "model = RandomForestClassifier(n_estimators=100, criterion='entropy', min_samples_split=5)\n",
    "# Fit on training data\n",
    "model = model.fit(X_train, y_train)"
   ]
  },
  {
   "cell_type": "code",
   "execution_count": 46,
   "metadata": {},
   "outputs": [
    {
     "name": "stdout",
     "output_type": "stream",
     "text": [
      "1. voltage_max (0.3313771600239712)\n",
      "2. voltage_mean (0.1619196069485143)\n",
      "3. voltage_median (0.08862922022306784)\n",
      "4. audio_median (0.051892546001945365)\n",
      "5. Power (0.04729223126857127)\n",
      "6. current_min (0.03383066291927245)\n",
      "7. Wh (0.02902338796624733)\n",
      "8. mAh (0.028844096193576748)\n",
      "9. current_max (0.027296704919449733)\n",
      "10. audio_max (0.027186360225878493)\n",
      "11. Resistance (0.02597141614659174)\n",
      "12. current_mean (0.022964903540157983)\n",
      "13. Time (0.0223241583478747)\n",
      "14. current_median (0.02052799240823404)\n",
      "15. voltage_min (0.01727238095964909)\n",
      "16. voltage_std (0.016941895506621153)\n",
      "17. audio_std (0.01437551352809926)\n",
      "18. audio_min (0.01348006194214582)\n",
      "19. audio_mean (0.008282575280244876)\n",
      "20. current_std (0.006228636191520812)\n",
      "21. Work (0.004338489458365784)\n"
     ]
    }
   ],
   "source": [
    "get_most_important_features(model, X_train, n=len(X_train.columns))"
   ]
  },
  {
   "cell_type": "markdown",
   "metadata": {},
   "source": [
    "Evaluate"
   ]
  },
  {
   "cell_type": "code",
   "execution_count": 47,
   "metadata": {},
   "outputs": [
    {
     "name": "stdout",
     "output_type": "stream",
     "text": [
      "#### RESULTS ####\n",
      "\n",
      "Accuracy:  86.66666666666667\n",
      "--------\n",
      "Confusion Matrix:\n",
      "[[ 3  0]\n",
      " [ 2 10]] \n",
      "\n"
     ]
    }
   ],
   "source": [
    "acc, con = evaluate_model(model, X_test, y_test)\n",
    "\n",
    "print(f\"#### RESULTS ####\\n\\nAccuracy: \", acc)\n",
    "print(\"--------\\nConfusion Matrix:\")\n",
    "print(con, \"\\n\")"
   ]
  },
  {
   "cell_type": "markdown",
   "metadata": {},
   "source": [
    "---"
   ]
  }
 ],
 "metadata": {
  "interpreter": {
   "hash": "96a5d84734c2fcc0f1c4e29111ed2080412c48bc33f767562c76143427b08200"
  },
  "kernelspec": {
   "display_name": "Python 3.9.1 64-bit",
   "language": "python",
   "name": "python3"
  },
  "language_info": {
   "codemirror_mode": {
    "name": "ipython",
    "version": 3
   },
   "file_extension": ".py",
   "mimetype": "text/x-python",
   "name": "python",
   "nbconvert_exporter": "python",
   "pygments_lexer": "ipython3",
   "version": "3.9.1"
  },
  "orig_nbformat": 4
 },
 "nbformat": 4,
 "nbformat_minor": 2
}
